{
 "cells": [
  {
   "cell_type": "code",
   "execution_count": 78,
   "metadata": {},
   "outputs": [],
   "source": [
    "import pandas as pd\n",
    "import numpy as np\n",
    "import time\n",
    "import turicreate as tc\n",
    "from sklearn.model_selection import train_test_split\n",
    "\n",
    "import sys\n",
    "sys.path.append(\"..\")"
   ]
  },
  {
   "cell_type": "code",
   "execution_count": 3,
   "metadata": {},
   "outputs": [
    {
     "data": {
      "text/plain": [
       "[1100, 6, 10, 8, 12, 1, 685, 1020, 1104, 1102, 1087, 737, 1101, 1103]"
      ]
     },
     "execution_count": 3,
     "metadata": {},
     "output_type": "execute_result"
    }
   ],
   "source": [
    "customers = pd.read_csv(\"https://raw.githubusercontent.com/knkemree/python/master/Book1.csv\")\n",
    "user_id = list(customers[\"user_id\"].unique())\n",
    "user_id"
   ]
  },
  {
   "cell_type": "code",
   "execution_count": 4,
   "metadata": {},
   "outputs": [],
   "source": [
    "transactions = pd.read_csv(\"https://raw.githubusercontent.com/knkemree/python/master/transactions.csv\")"
   ]
  },
  {
   "cell_type": "code",
   "execution_count": 5,
   "metadata": {},
   "outputs": [
    {
     "name": "stdout",
     "output_type": "stream",
     "text": [
      "(801, 1)\n"
     ]
    },
    {
     "data": {
      "text/html": [
       "<div>\n",
       "<style scoped>\n",
       "    .dataframe tbody tr th:only-of-type {\n",
       "        vertical-align: middle;\n",
       "    }\n",
       "\n",
       "    .dataframe tbody tr th {\n",
       "        vertical-align: top;\n",
       "    }\n",
       "\n",
       "    .dataframe thead th {\n",
       "        text-align: right;\n",
       "    }\n",
       "</style>\n",
       "<table border=\"1\" class=\"dataframe\">\n",
       "  <thead>\n",
       "    <tr style=\"text-align: right;\">\n",
       "      <th></th>\n",
       "      <th>user_id</th>\n",
       "    </tr>\n",
       "  </thead>\n",
       "  <tbody>\n",
       "    <tr>\n",
       "      <th>0</th>\n",
       "      <td>1100</td>\n",
       "    </tr>\n",
       "    <tr>\n",
       "      <th>1</th>\n",
       "      <td>1100</td>\n",
       "    </tr>\n",
       "    <tr>\n",
       "      <th>2</th>\n",
       "      <td>1100</td>\n",
       "    </tr>\n",
       "    <tr>\n",
       "      <th>3</th>\n",
       "      <td>1100</td>\n",
       "    </tr>\n",
       "    <tr>\n",
       "      <th>4</th>\n",
       "      <td>1100</td>\n",
       "    </tr>\n",
       "  </tbody>\n",
       "</table>\n",
       "</div>"
      ],
      "text/plain": [
       "   user_id\n",
       "0     1100\n",
       "1     1100\n",
       "2     1100\n",
       "3     1100\n",
       "4     1100"
      ]
     },
     "execution_count": 5,
     "metadata": {},
     "output_type": "execute_result"
    }
   ],
   "source": [
    "print(customers.shape)\n",
    "customers.head()"
   ]
  },
  {
   "cell_type": "code",
   "execution_count": 6,
   "metadata": {},
   "outputs": [
    {
     "name": "stdout",
     "output_type": "stream",
     "text": [
      "(2023, 2)\n"
     ]
    },
    {
     "data": {
      "text/html": [
       "<div>\n",
       "<style scoped>\n",
       "    .dataframe tbody tr th:only-of-type {\n",
       "        vertical-align: middle;\n",
       "    }\n",
       "\n",
       "    .dataframe tbody tr th {\n",
       "        vertical-align: top;\n",
       "    }\n",
       "\n",
       "    .dataframe thead th {\n",
       "        text-align: right;\n",
       "    }\n",
       "</style>\n",
       "<table border=\"1\" class=\"dataframe\">\n",
       "  <thead>\n",
       "    <tr style=\"text-align: right;\">\n",
       "      <th></th>\n",
       "      <th>user_id</th>\n",
       "      <th>product_id</th>\n",
       "    </tr>\n",
       "  </thead>\n",
       "  <tbody>\n",
       "    <tr>\n",
       "      <th>0</th>\n",
       "      <td>1100.0</td>\n",
       "      <td>fe849f4f-904a-4e77-a0f8-05a7dadde04e</td>\n",
       "    </tr>\n",
       "    <tr>\n",
       "      <th>1</th>\n",
       "      <td>1100.0</td>\n",
       "      <td>5df057fc-9f95-4e93-8e84-d8d8b6313786</td>\n",
       "    </tr>\n",
       "    <tr>\n",
       "      <th>2</th>\n",
       "      <td>1100.0</td>\n",
       "      <td>beba627b-fad2-4d4f-aa8c-be0938bfa8a5</td>\n",
       "    </tr>\n",
       "    <tr>\n",
       "      <th>3</th>\n",
       "      <td>1100.0</td>\n",
       "      <td>3a2ed5a6-a99f-4556-9a3d-f3b2573c246f</td>\n",
       "    </tr>\n",
       "    <tr>\n",
       "      <th>4</th>\n",
       "      <td>1100.0</td>\n",
       "      <td>e9135d4c-e363-48c3-ba7b-7a18b3145f0a</td>\n",
       "    </tr>\n",
       "  </tbody>\n",
       "</table>\n",
       "</div>"
      ],
      "text/plain": [
       "   user_id                            product_id\n",
       "0   1100.0  fe849f4f-904a-4e77-a0f8-05a7dadde04e\n",
       "1   1100.0  5df057fc-9f95-4e93-8e84-d8d8b6313786\n",
       "2   1100.0  beba627b-fad2-4d4f-aa8c-be0938bfa8a5\n",
       "3   1100.0  3a2ed5a6-a99f-4556-9a3d-f3b2573c246f\n",
       "4   1100.0  e9135d4c-e363-48c3-ba7b-7a18b3145f0a"
      ]
     },
     "execution_count": 6,
     "metadata": {},
     "output_type": "execute_result"
    }
   ],
   "source": [
    "print(transactions.shape)\n",
    "transactions.head()"
   ]
  },
  {
   "cell_type": "code",
   "execution_count": 7,
   "metadata": {},
   "outputs": [],
   "source": [
    "data = pd.melt(transactions.set_index('user_id')['product_id'].apply(pd.Series).reset_index(), \n",
    "             id_vars=['user_id'],\n",
    "             value_name='product_id') \\\n",
    "    .dropna().drop(['variable'], axis=1) \\\n",
    "    .groupby(['user_id', 'product_id']) \\\n",
    "    .agg({'product_id': 'count'}) \\\n",
    "    .rename(columns={'product_id': 'purchase_count'}) \\\n",
    "    .reset_index() \\\n",
    "    .rename(columns={'product_id': 'productId'})\n",
    "data['user_id'] = data['user_id'].astype(np.int64)"
   ]
  },
  {
   "cell_type": "code",
   "execution_count": 8,
   "metadata": {},
   "outputs": [
    {
     "data": {
      "text/html": [
       "<div>\n",
       "<style scoped>\n",
       "    .dataframe tbody tr th:only-of-type {\n",
       "        vertical-align: middle;\n",
       "    }\n",
       "\n",
       "    .dataframe tbody tr th {\n",
       "        vertical-align: top;\n",
       "    }\n",
       "\n",
       "    .dataframe thead th {\n",
       "        text-align: right;\n",
       "    }\n",
       "</style>\n",
       "<table border=\"1\" class=\"dataframe\">\n",
       "  <thead>\n",
       "    <tr style=\"text-align: right;\">\n",
       "      <th></th>\n",
       "      <th>user_id</th>\n",
       "      <th>productId</th>\n",
       "      <th>purchase_count</th>\n",
       "    </tr>\n",
       "  </thead>\n",
       "  <tbody>\n",
       "    <tr>\n",
       "      <th>0</th>\n",
       "      <td>1</td>\n",
       "      <td>10686</td>\n",
       "      <td>1</td>\n",
       "    </tr>\n",
       "    <tr>\n",
       "      <th>1</th>\n",
       "      <td>1</td>\n",
       "      <td>13</td>\n",
       "      <td>1</td>\n",
       "    </tr>\n",
       "    <tr>\n",
       "      <th>2</th>\n",
       "      <td>1</td>\n",
       "      <td>1560</td>\n",
       "      <td>1</td>\n",
       "    </tr>\n",
       "    <tr>\n",
       "      <th>3</th>\n",
       "      <td>1</td>\n",
       "      <td>2092</td>\n",
       "      <td>1</td>\n",
       "    </tr>\n",
       "    <tr>\n",
       "      <th>4</th>\n",
       "      <td>1</td>\n",
       "      <td>2226</td>\n",
       "      <td>1</td>\n",
       "    </tr>\n",
       "  </tbody>\n",
       "</table>\n",
       "</div>"
      ],
      "text/plain": [
       "   user_id productId  purchase_count\n",
       "0        1     10686               1\n",
       "1        1        13               1\n",
       "2        1      1560               1\n",
       "3        1      2092               1\n",
       "4        1      2226               1"
      ]
     },
     "execution_count": 8,
     "metadata": {},
     "output_type": "execute_result"
    }
   ],
   "source": [
    "data.shape\n",
    "data.head()"
   ]
  },
  {
   "cell_type": "code",
   "execution_count": 9,
   "metadata": {},
   "outputs": [],
   "source": [
    "data.to_csv(\"pmpp_transaction.csv\")"
   ]
  },
  {
   "cell_type": "code",
   "execution_count": 10,
   "metadata": {},
   "outputs": [
    {
     "data": {
      "text/html": [
       "<div>\n",
       "<style scoped>\n",
       "    .dataframe tbody tr th:only-of-type {\n",
       "        vertical-align: middle;\n",
       "    }\n",
       "\n",
       "    .dataframe tbody tr th {\n",
       "        vertical-align: top;\n",
       "    }\n",
       "\n",
       "    .dataframe thead th {\n",
       "        text-align: right;\n",
       "    }\n",
       "</style>\n",
       "<table border=\"1\" class=\"dataframe\">\n",
       "  <thead>\n",
       "    <tr style=\"text-align: right;\">\n",
       "      <th></th>\n",
       "      <th>user_id</th>\n",
       "      <th>productId</th>\n",
       "      <th>purchase_count</th>\n",
       "    </tr>\n",
       "  </thead>\n",
       "  <tbody>\n",
       "    <tr>\n",
       "      <th>160</th>\n",
       "      <td>737</td>\n",
       "      <td>249</td>\n",
       "      <td>7</td>\n",
       "    </tr>\n",
       "    <tr>\n",
       "      <th>153</th>\n",
       "      <td>737</td>\n",
       "      <td>200</td>\n",
       "      <td>6</td>\n",
       "    </tr>\n",
       "    <tr>\n",
       "      <th>956</th>\n",
       "      <td>1100</td>\n",
       "      <td>23eb0740-b1da-455b-8105-ef628fd8adb9</td>\n",
       "      <td>6</td>\n",
       "    </tr>\n",
       "    <tr>\n",
       "      <th>262</th>\n",
       "      <td>737</td>\n",
       "      <td>422</td>\n",
       "      <td>5</td>\n",
       "    </tr>\n",
       "    <tr>\n",
       "      <th>316</th>\n",
       "      <td>737</td>\n",
       "      <td>86</td>\n",
       "      <td>5</td>\n",
       "    </tr>\n",
       "    <tr>\n",
       "      <th>...</th>\n",
       "      <td>...</td>\n",
       "      <td>...</td>\n",
       "      <td>...</td>\n",
       "    </tr>\n",
       "    <tr>\n",
       "      <th>613</th>\n",
       "      <td>1020</td>\n",
       "      <td>8ef5bf09-9c27-479e-a8f5-9e2d6b30c9a9</td>\n",
       "      <td>1</td>\n",
       "    </tr>\n",
       "    <tr>\n",
       "      <th>612</th>\n",
       "      <td>1020</td>\n",
       "      <td>8ef5bf09-2aec-4de2-8340-b5ecf57eefc6</td>\n",
       "      <td>1</td>\n",
       "    </tr>\n",
       "    <tr>\n",
       "      <th>611</th>\n",
       "      <td>1020</td>\n",
       "      <td>8ef5bf09-1827-4d5d-ab50-738ec8651201</td>\n",
       "      <td>1</td>\n",
       "    </tr>\n",
       "    <tr>\n",
       "      <th>610</th>\n",
       "      <td>1020</td>\n",
       "      <td>8ef5bf08-a727-4372-9108-4bde31ee2631</td>\n",
       "      <td>1</td>\n",
       "    </tr>\n",
       "    <tr>\n",
       "      <th>1730</th>\n",
       "      <td>1115</td>\n",
       "      <td>9800</td>\n",
       "      <td>1</td>\n",
       "    </tr>\n",
       "  </tbody>\n",
       "</table>\n",
       "<p>1731 rows × 3 columns</p>\n",
       "</div>"
      ],
      "text/plain": [
       "      user_id                             productId  purchase_count\n",
       "160       737                                   249               7\n",
       "153       737                                   200               6\n",
       "956      1100  23eb0740-b1da-455b-8105-ef628fd8adb9               6\n",
       "262       737                                   422               5\n",
       "316       737                                    86               5\n",
       "...       ...                                   ...             ...\n",
       "613      1020  8ef5bf09-9c27-479e-a8f5-9e2d6b30c9a9               1\n",
       "612      1020  8ef5bf09-2aec-4de2-8340-b5ecf57eefc6               1\n",
       "611      1020  8ef5bf09-1827-4d5d-ab50-738ec8651201               1\n",
       "610      1020  8ef5bf08-a727-4372-9108-4bde31ee2631               1\n",
       "1730     1115                                  9800               1\n",
       "\n",
       "[1731 rows x 3 columns]"
      ]
     },
     "execution_count": 10,
     "metadata": {},
     "output_type": "execute_result"
    }
   ],
   "source": [
    "data.sort_values(by=['purchase_count'], ascending = False)"
   ]
  },
  {
   "cell_type": "code",
   "execution_count": 11,
   "metadata": {},
   "outputs": [],
   "source": [
    "def split_data(data):\n",
    "    '''\n",
    "    Splits dataset into training and test set.\n",
    "    \n",
    "    Args:\n",
    "        data (pandas.DataFrame)\n",
    "        \n",
    "    Returns\n",
    "        train_data (tc.SFrame)\n",
    "        test_data (tc.SFrame)\n",
    "    '''\n",
    "    train, test = train_test_split(data, test_size = .2)\n",
    "    train_data = tc.SFrame(train)\n",
    "    test_data = tc.SFrame(test)\n",
    "    return train_data, test_data"
   ]
  },
  {
   "cell_type": "code",
   "execution_count": 12,
   "metadata": {},
   "outputs": [],
   "source": [
    "train_data, test_data = split_data(data)"
   ]
  },
  {
   "cell_type": "code",
   "execution_count": 13,
   "metadata": {},
   "outputs": [
    {
     "data": {
      "text/html": [
       "<div style=\"max-height:1000px;max-width:1500px;overflow:auto;\"><table frame=\"box\" rules=\"cols\">\n",
       "    <tr>\n",
       "        <th style=\"padding-left: 1em; padding-right: 1em; text-align: center\">user_id</th>\n",
       "        <th style=\"padding-left: 1em; padding-right: 1em; text-align: center\">productId</th>\n",
       "        <th style=\"padding-left: 1em; padding-right: 1em; text-align: center\">purchase_count</th>\n",
       "    </tr>\n",
       "    <tr>\n",
       "        <td style=\"padding-left: 1em; padding-right: 1em; text-align: center; vertical-align: top\">1020</td>\n",
       "        <td style=\"padding-left: 1em; padding-right: 1em; text-align: center; vertical-align: top\">9bc3abf8-67a5-4718-8b9b-1<br>cd88c7b99fa ...</td>\n",
       "        <td style=\"padding-left: 1em; padding-right: 1em; text-align: center; vertical-align: top\">1</td>\n",
       "    </tr>\n",
       "    <tr>\n",
       "        <td style=\"padding-left: 1em; padding-right: 1em; text-align: center; vertical-align: top\">1098</td>\n",
       "        <td style=\"padding-left: 1em; padding-right: 1em; text-align: center; vertical-align: top\">7b236b39-576e-4a6d-8611-8<br>5ba71387ba5 ...</td>\n",
       "        <td style=\"padding-left: 1em; padding-right: 1em; text-align: center; vertical-align: top\">1</td>\n",
       "    </tr>\n",
       "    <tr>\n",
       "        <td style=\"padding-left: 1em; padding-right: 1em; text-align: center; vertical-align: top\">1098</td>\n",
       "        <td style=\"padding-left: 1em; padding-right: 1em; text-align: center; vertical-align: top\">d4c3d6f3-bf98-4acc-<br>acc7-0d87a00336aa ...</td>\n",
       "        <td style=\"padding-left: 1em; padding-right: 1em; text-align: center; vertical-align: top\">1</td>\n",
       "    </tr>\n",
       "    <tr>\n",
       "        <td style=\"padding-left: 1em; padding-right: 1em; text-align: center; vertical-align: top\">1101</td>\n",
       "        <td style=\"padding-left: 1em; padding-right: 1em; text-align: center; vertical-align: top\">adc4b06b-b15e-4387-9479-f<br>bca2dc85799 ...</td>\n",
       "        <td style=\"padding-left: 1em; padding-right: 1em; text-align: center; vertical-align: top\">1</td>\n",
       "    </tr>\n",
       "    <tr>\n",
       "        <td style=\"padding-left: 1em; padding-right: 1em; text-align: center; vertical-align: top\">1103</td>\n",
       "        <td style=\"padding-left: 1em; padding-right: 1em; text-align: center; vertical-align: top\">8ed56fcd-eb54-449b-9ffd-9<br>572c1de024d ...</td>\n",
       "        <td style=\"padding-left: 1em; padding-right: 1em; text-align: center; vertical-align: top\">1</td>\n",
       "    </tr>\n",
       "    <tr>\n",
       "        <td style=\"padding-left: 1em; padding-right: 1em; text-align: center; vertical-align: top\">1101</td>\n",
       "        <td style=\"padding-left: 1em; padding-right: 1em; text-align: center; vertical-align: top\">3921b850-e11d-47c5-b0f7-5<br>c162ac33f69 ...</td>\n",
       "        <td style=\"padding-left: 1em; padding-right: 1em; text-align: center; vertical-align: top\">1</td>\n",
       "    </tr>\n",
       "    <tr>\n",
       "        <td style=\"padding-left: 1em; padding-right: 1em; text-align: center; vertical-align: top\">1101</td>\n",
       "        <td style=\"padding-left: 1em; padding-right: 1em; text-align: center; vertical-align: top\">6537a656-bf8b-41f7-95d8-9<br>25517a5be67 ...</td>\n",
       "        <td style=\"padding-left: 1em; padding-right: 1em; text-align: center; vertical-align: top\">1</td>\n",
       "    </tr>\n",
       "    <tr>\n",
       "        <td style=\"padding-left: 1em; padding-right: 1em; text-align: center; vertical-align: top\">737</td>\n",
       "        <td style=\"padding-left: 1em; padding-right: 1em; text-align: center; vertical-align: top\">2788</td>\n",
       "        <td style=\"padding-left: 1em; padding-right: 1em; text-align: center; vertical-align: top\">1</td>\n",
       "    </tr>\n",
       "    <tr>\n",
       "        <td style=\"padding-left: 1em; padding-right: 1em; text-align: center; vertical-align: top\">1020</td>\n",
       "        <td style=\"padding-left: 1em; padding-right: 1em; text-align: center; vertical-align: top\">9737</td>\n",
       "        <td style=\"padding-left: 1em; padding-right: 1em; text-align: center; vertical-align: top\">2</td>\n",
       "    </tr>\n",
       "    <tr>\n",
       "        <td style=\"padding-left: 1em; padding-right: 1em; text-align: center; vertical-align: top\">1114</td>\n",
       "        <td style=\"padding-left: 1em; padding-right: 1em; text-align: center; vertical-align: top\">8f03d7ab-012c-48db-a01f-9<br>f971c7c3695 ...</td>\n",
       "        <td style=\"padding-left: 1em; padding-right: 1em; text-align: center; vertical-align: top\">1</td>\n",
       "    </tr>\n",
       "</table>\n",
       "[347 rows x 3 columns]<br/>Note: Only the head of the SFrame is printed.<br/>You can use print_rows(num_rows=m, num_columns=n) to print more rows and columns.\n",
       "</div>"
      ],
      "text/plain": [
       "Columns:\n",
       "\tuser_id\tint\n",
       "\tproductId\tstr\n",
       "\tpurchase_count\tint\n",
       "\n",
       "Rows: 347\n",
       "\n",
       "Data:\n",
       "+---------+-------------------------------+----------------+\n",
       "| user_id |           productId           | purchase_count |\n",
       "+---------+-------------------------------+----------------+\n",
       "|   1020  | 9bc3abf8-67a5-4718-8b9b-1c... |       1        |\n",
       "|   1098  | 7b236b39-576e-4a6d-8611-85... |       1        |\n",
       "|   1098  | d4c3d6f3-bf98-4acc-acc7-0d... |       1        |\n",
       "|   1101  | adc4b06b-b15e-4387-9479-fb... |       1        |\n",
       "|   1103  | 8ed56fcd-eb54-449b-9ffd-95... |       1        |\n",
       "|   1101  | 3921b850-e11d-47c5-b0f7-5c... |       1        |\n",
       "|   1101  | 6537a656-bf8b-41f7-95d8-92... |       1        |\n",
       "|   737   |              2788             |       1        |\n",
       "|   1020  |              9737             |       2        |\n",
       "|   1114  | 8f03d7ab-012c-48db-a01f-9f... |       1        |\n",
       "+---------+-------------------------------+----------------+\n",
       "[347 rows x 3 columns]\n",
       "Note: Only the head of the SFrame is printed.\n",
       "You can use print_rows(num_rows=m, num_columns=n) to print more rows and columns."
      ]
     },
     "execution_count": 13,
     "metadata": {},
     "output_type": "execute_result"
    }
   ],
   "source": [
    "test_data"
   ]
  },
  {
   "cell_type": "code",
   "execution_count": 14,
   "metadata": {},
   "outputs": [
    {
     "data": {
      "text/html": [
       "<div style=\"max-height:1000px;max-width:1500px;overflow:auto;\"><table frame=\"box\" rules=\"cols\">\n",
       "    <tr>\n",
       "        <th style=\"padding-left: 1em; padding-right: 1em; text-align: center\">user_id</th>\n",
       "        <th style=\"padding-left: 1em; padding-right: 1em; text-align: center\">productId</th>\n",
       "        <th style=\"padding-left: 1em; padding-right: 1em; text-align: center\">purchase_count</th>\n",
       "    </tr>\n",
       "    <tr>\n",
       "        <td style=\"padding-left: 1em; padding-right: 1em; text-align: center; vertical-align: top\">1020</td>\n",
       "        <td style=\"padding-left: 1em; padding-right: 1em; text-align: center; vertical-align: top\">1ebe39c4-72a8-4d8b-a45c-2<br>145f5d96054 ...</td>\n",
       "        <td style=\"padding-left: 1em; padding-right: 1em; text-align: center; vertical-align: top\">1</td>\n",
       "    </tr>\n",
       "    <tr>\n",
       "        <td style=\"padding-left: 1em; padding-right: 1em; text-align: center; vertical-align: top\">737</td>\n",
       "        <td style=\"padding-left: 1em; padding-right: 1em; text-align: center; vertical-align: top\">2889</td>\n",
       "        <td style=\"padding-left: 1em; padding-right: 1em; text-align: center; vertical-align: top\">1</td>\n",
       "    </tr>\n",
       "    <tr>\n",
       "        <td style=\"padding-left: 1em; padding-right: 1em; text-align: center; vertical-align: top\">737</td>\n",
       "        <td style=\"padding-left: 1em; padding-right: 1em; text-align: center; vertical-align: top\">8748</td>\n",
       "        <td style=\"padding-left: 1em; padding-right: 1em; text-align: center; vertical-align: top\">1</td>\n",
       "    </tr>\n",
       "    <tr>\n",
       "        <td style=\"padding-left: 1em; padding-right: 1em; text-align: center; vertical-align: top\">1107</td>\n",
       "        <td style=\"padding-left: 1em; padding-right: 1em; text-align: center; vertical-align: top\">8ef77473-a065-4394-985e-4<br>d649b58f711 ...</td>\n",
       "        <td style=\"padding-left: 1em; padding-right: 1em; text-align: center; vertical-align: top\">2</td>\n",
       "    </tr>\n",
       "    <tr>\n",
       "        <td style=\"padding-left: 1em; padding-right: 1em; text-align: center; vertical-align: top\">1107</td>\n",
       "        <td style=\"padding-left: 1em; padding-right: 1em; text-align: center; vertical-align: top\">8f1e1161-3754-4694-9e8c-1<br>50de408482b ...</td>\n",
       "        <td style=\"padding-left: 1em; padding-right: 1em; text-align: center; vertical-align: top\">1</td>\n",
       "    </tr>\n",
       "    <tr>\n",
       "        <td style=\"padding-left: 1em; padding-right: 1em; text-align: center; vertical-align: top\">1020</td>\n",
       "        <td style=\"padding-left: 1em; padding-right: 1em; text-align: center; vertical-align: top\">4266</td>\n",
       "        <td style=\"padding-left: 1em; padding-right: 1em; text-align: center; vertical-align: top\">1</td>\n",
       "    </tr>\n",
       "    <tr>\n",
       "        <td style=\"padding-left: 1em; padding-right: 1em; text-align: center; vertical-align: top\">1100</td>\n",
       "        <td style=\"padding-left: 1em; padding-right: 1em; text-align: center; vertical-align: top\">e9135d4c-e363-48c3-ba7b-7<br>a18b3145f0a ...</td>\n",
       "        <td style=\"padding-left: 1em; padding-right: 1em; text-align: center; vertical-align: top\">3</td>\n",
       "    </tr>\n",
       "    <tr>\n",
       "        <td style=\"padding-left: 1em; padding-right: 1em; text-align: center; vertical-align: top\">1020</td>\n",
       "        <td style=\"padding-left: 1em; padding-right: 1em; text-align: center; vertical-align: top\">3831</td>\n",
       "        <td style=\"padding-left: 1em; padding-right: 1em; text-align: center; vertical-align: top\">1</td>\n",
       "    </tr>\n",
       "    <tr>\n",
       "        <td style=\"padding-left: 1em; padding-right: 1em; text-align: center; vertical-align: top\">1096</td>\n",
       "        <td style=\"padding-left: 1em; padding-right: 1em; text-align: center; vertical-align: top\">9bfa4e1d-299b-47f0-b5ed-<br>ccb9626dbeea ...</td>\n",
       "        <td style=\"padding-left: 1em; padding-right: 1em; text-align: center; vertical-align: top\">1</td>\n",
       "    </tr>\n",
       "    <tr>\n",
       "        <td style=\"padding-left: 1em; padding-right: 1em; text-align: center; vertical-align: top\">8</td>\n",
       "        <td style=\"padding-left: 1em; padding-right: 1em; text-align: center; vertical-align: top\">6537a656-bf8b-41f7-95d8-9<br>25517a5be67 ...</td>\n",
       "        <td style=\"padding-left: 1em; padding-right: 1em; text-align: center; vertical-align: top\">1</td>\n",
       "    </tr>\n",
       "</table>\n",
       "[1384 rows x 3 columns]<br/>Note: Only the head of the SFrame is printed.<br/>You can use print_rows(num_rows=m, num_columns=n) to print more rows and columns.\n",
       "</div>"
      ],
      "text/plain": [
       "Columns:\n",
       "\tuser_id\tint\n",
       "\tproductId\tstr\n",
       "\tpurchase_count\tint\n",
       "\n",
       "Rows: 1384\n",
       "\n",
       "Data:\n",
       "+---------+-------------------------------+----------------+\n",
       "| user_id |           productId           | purchase_count |\n",
       "+---------+-------------------------------+----------------+\n",
       "|   1020  | 1ebe39c4-72a8-4d8b-a45c-21... |       1        |\n",
       "|   737   |              2889             |       1        |\n",
       "|   737   |              8748             |       1        |\n",
       "|   1107  | 8ef77473-a065-4394-985e-4d... |       2        |\n",
       "|   1107  | 8f1e1161-3754-4694-9e8c-15... |       1        |\n",
       "|   1020  |              4266             |       1        |\n",
       "|   1100  | e9135d4c-e363-48c3-ba7b-7a... |       3        |\n",
       "|   1020  |              3831             |       1        |\n",
       "|   1096  | 9bfa4e1d-299b-47f0-b5ed-cc... |       1        |\n",
       "|    8    | 6537a656-bf8b-41f7-95d8-92... |       1        |\n",
       "+---------+-------------------------------+----------------+\n",
       "[1384 rows x 3 columns]\n",
       "Note: Only the head of the SFrame is printed.\n",
       "You can use print_rows(num_rows=m, num_columns=n) to print more rows and columns."
      ]
     },
     "execution_count": 14,
     "metadata": {},
     "output_type": "execute_result"
    }
   ],
   "source": [
    "train_data"
   ]
  },
  {
   "cell_type": "code",
   "execution_count": 56,
   "metadata": {},
   "outputs": [],
   "source": [
    "# constant variables to define field names include:\n",
    "user_id = 'user_id'\n",
    "item_id = 'productId'\n",
    "users_to_recommend = list(customers[user_id].unique())\n",
    "n_rec = 10 # number of items to recommend\n",
    "n_display = 30 # to display the first few rows in an output dataset"
   ]
  },
  {
   "cell_type": "code",
   "execution_count": 109,
   "metadata": {},
   "outputs": [],
   "source": [
    "def model(train_data, name, user_id, item_id, target, users_to_recommend, n_rec, n_display):\n",
    "    if name == 'popularity':\n",
    "        model = tc.popularity_recommender.create(train_data, \n",
    "                                                    user_id=user_id, \n",
    "                                                    item_id=item_id, \n",
    "                                                    target=target)\n",
    "    elif name == 'cosine':\n",
    "        model = tc.item_similarity_recommender.create(train_data, \n",
    "                                                    user_id=user_id, \n",
    "                                                    item_id=item_id, \n",
    "                                                    target=target, \n",
    "                                                    similarity_type='cosine')\n",
    "    elif name == 'pearson':\n",
    "        model = tc.item_similarity_recommender.create(train_data, \n",
    "                                                    user_id=user_id, \n",
    "                                                    item_id=item_id, \n",
    "                                                    target=target, \n",
    "                                                    similarity_type='pearson')\n",
    "    elif name == 'jaccard':\n",
    "        model = tc.item_similarity_recommender.create(train_data,\n",
    "                                                           user_id=user_id,\n",
    "                                                            item_id=item_id,\n",
    "                                                            target=target,\n",
    "                                                            similarity_type='jaccard')\n",
    "    elif name =='ranking_factorization':\n",
    "        model = tc.ranking_factorization_recommender.create(train_data, \n",
    "                                                    user_id=user_id, \n",
    "                                                    item_id=item_id, \n",
    "                                                    target=target)\n",
    "    elif name == 'factorization':\n",
    "        model = tc.factorization_recommender.create(train_data, \n",
    "                                                    user_id=user_id, \n",
    "                                                    item_id=item_id, \n",
    "                                                    target=target)\n",
    "        \n",
    "    recom = model.recommend(users=users_to_recommend, k=n_rec)\n",
    "    recom.print_rows(n_display)\n",
    "    return model"
   ]
  },
  {
   "cell_type": "markdown",
   "metadata": {},
   "source": []
  },
  {
   "cell_type": "code",
   "execution_count": 86,
   "metadata": {},
   "outputs": [
    {
     "data": {
      "text/html": [
       "<pre>Preparing data set.</pre>"
      ],
      "text/plain": [
       "Preparing data set."
      ]
     },
     "metadata": {},
     "output_type": "display_data"
    },
    {
     "data": {
      "text/html": [
       "<pre>    Data has 1384 observations with 26 users and 927 items.</pre>"
      ],
      "text/plain": [
       "    Data has 1384 observations with 26 users and 927 items."
      ]
     },
     "metadata": {},
     "output_type": "display_data"
    },
    {
     "data": {
      "text/html": [
       "<pre>    Data prepared in: 0.018791s</pre>"
      ],
      "text/plain": [
       "    Data prepared in: 0.018791s"
      ]
     },
     "metadata": {},
     "output_type": "display_data"
    },
    {
     "data": {
      "text/html": [
       "<pre>1384 observations to process; with 927 unique items.</pre>"
      ],
      "text/plain": [
       "1384 observations to process; with 927 unique items."
      ]
     },
     "metadata": {},
     "output_type": "display_data"
    },
    {
     "name": "stdout",
     "output_type": "stream",
     "text": [
      "+---------+-------------------------------+--------------------+------+\n",
      "| user_id |           productId           |       score        | rank |\n",
      "+---------+-------------------------------+--------------------+------+\n",
      "|   1100  |               86              |        5.0         |  1   |\n",
      "|   1100  |              422              |        3.5         |  2   |\n",
      "|   1100  |              200              |        3.5         |  3   |\n",
      "|   1100  |              456              |        3.0         |  4   |\n",
      "|   1100  |              250              |        3.0         |  5   |\n",
      "|   1100  |              458              |        3.0         |  6   |\n",
      "|   1100  |              459              |        3.0         |  7   |\n",
      "|   1100  |               87              |        3.0         |  8   |\n",
      "|   1100  |              423              |        2.5         |  9   |\n",
      "|   1100  |              144              | 2.3333333333333335 |  10  |\n",
      "|    6    |               86              |        5.0         |  1   |\n",
      "|    6    |              422              |        3.5         |  2   |\n",
      "|    6    |              200              |        3.5         |  3   |\n",
      "|    6    | dd9554ce-e674-4956-a90a-a8... |        3.0         |  4   |\n",
      "|    6    | d0e0618c-041b-40a4-a2b1-e4... |        3.0         |  5   |\n",
      "|    6    |              456              |        3.0         |  6   |\n",
      "|    6    |              250              |        3.0         |  7   |\n",
      "|    6    |              458              |        3.0         |  8   |\n",
      "|    6    |              459              |        3.0         |  9   |\n",
      "|    6    |               87              |        3.0         |  10  |\n",
      "|    10   |               86              |        5.0         |  1   |\n",
      "|    10   |              422              |        3.5         |  2   |\n",
      "|    10   |              200              |        3.5         |  3   |\n",
      "|    10   | dd9554ce-e674-4956-a90a-a8... |        3.0         |  4   |\n",
      "|    10   | d0e0618c-041b-40a4-a2b1-e4... |        3.0         |  5   |\n",
      "|    10   |              456              |        3.0         |  6   |\n",
      "|    10   |              250              |        3.0         |  7   |\n",
      "|    10   |              458              |        3.0         |  8   |\n",
      "|    10   |              459              |        3.0         |  9   |\n",
      "|    10   |               87              |        3.0         |  10  |\n",
      "+---------+-------------------------------+--------------------+------+\n",
      "[140 rows x 4 columns]\n",
      "\n"
     ]
    }
   ],
   "source": [
    "name = 'popularity'\n",
    "target = 'purchase_count'\n",
    "popularity = model(train_data, name, user_id, item_id, target, users_to_recommend, n_rec, n_display)"
   ]
  },
  {
   "cell_type": "code",
   "execution_count": 87,
   "metadata": {},
   "outputs": [
    {
     "data": {
      "text/html": [
       "<pre>Preparing data set.</pre>"
      ],
      "text/plain": [
       "Preparing data set."
      ]
     },
     "metadata": {},
     "output_type": "display_data"
    },
    {
     "data": {
      "text/html": [
       "<pre>    Data has 1384 observations with 26 users and 927 items.</pre>"
      ],
      "text/plain": [
       "    Data has 1384 observations with 26 users and 927 items."
      ]
     },
     "metadata": {},
     "output_type": "display_data"
    },
    {
     "data": {
      "text/html": [
       "<pre>    Data prepared in: 0.013077s</pre>"
      ],
      "text/plain": [
       "    Data prepared in: 0.013077s"
      ]
     },
     "metadata": {},
     "output_type": "display_data"
    },
    {
     "data": {
      "text/html": [
       "<pre>Training model from provided data.</pre>"
      ],
      "text/plain": [
       "Training model from provided data."
      ]
     },
     "metadata": {},
     "output_type": "display_data"
    },
    {
     "data": {
      "text/html": [
       "<pre>Gathering per-item and per-user statistics.</pre>"
      ],
      "text/plain": [
       "Gathering per-item and per-user statistics."
      ]
     },
     "metadata": {},
     "output_type": "display_data"
    },
    {
     "data": {
      "text/html": [
       "<pre>+--------------------------------+------------+</pre>"
      ],
      "text/plain": [
       "+--------------------------------+------------+"
      ]
     },
     "metadata": {},
     "output_type": "display_data"
    },
    {
     "data": {
      "text/html": [
       "<pre>| Elapsed Time (Item Statistics) | % Complete |</pre>"
      ],
      "text/plain": [
       "| Elapsed Time (Item Statistics) | % Complete |"
      ]
     },
     "metadata": {},
     "output_type": "display_data"
    },
    {
     "data": {
      "text/html": [
       "<pre>+--------------------------------+------------+</pre>"
      ],
      "text/plain": [
       "+--------------------------------+------------+"
      ]
     },
     "metadata": {},
     "output_type": "display_data"
    },
    {
     "data": {
      "text/html": [
       "<pre>| 2.426ms                        | 100        |</pre>"
      ],
      "text/plain": [
       "| 2.426ms                        | 100        |"
      ]
     },
     "metadata": {},
     "output_type": "display_data"
    },
    {
     "data": {
      "text/html": [
       "<pre>+--------------------------------+------------+</pre>"
      ],
      "text/plain": [
       "+--------------------------------+------------+"
      ]
     },
     "metadata": {},
     "output_type": "display_data"
    },
    {
     "data": {
      "text/html": [
       "<pre>Setting up lookup tables.</pre>"
      ],
      "text/plain": [
       "Setting up lookup tables."
      ]
     },
     "metadata": {},
     "output_type": "display_data"
    },
    {
     "data": {
      "text/html": [
       "<pre>Processing data in one pass using dense lookup tables.</pre>"
      ],
      "text/plain": [
       "Processing data in one pass using dense lookup tables."
      ]
     },
     "metadata": {},
     "output_type": "display_data"
    },
    {
     "data": {
      "text/html": [
       "<pre>+-------------------------------------+------------------+-----------------+</pre>"
      ],
      "text/plain": [
       "+-------------------------------------+------------------+-----------------+"
      ]
     },
     "metadata": {},
     "output_type": "display_data"
    },
    {
     "data": {
      "text/html": [
       "<pre>| Elapsed Time (Constructing Lookups) | Total % Complete | Items Processed |</pre>"
      ],
      "text/plain": [
       "| Elapsed Time (Constructing Lookups) | Total % Complete | Items Processed |"
      ]
     },
     "metadata": {},
     "output_type": "display_data"
    },
    {
     "data": {
      "text/html": [
       "<pre>+-------------------------------------+------------------+-----------------+</pre>"
      ],
      "text/plain": [
       "+-------------------------------------+------------------+-----------------+"
      ]
     },
     "metadata": {},
     "output_type": "display_data"
    },
    {
     "data": {
      "text/html": [
       "<pre>| 11.575ms                            | 0                | 1               |</pre>"
      ],
      "text/plain": [
       "| 11.575ms                            | 0                | 1               |"
      ]
     },
     "metadata": {},
     "output_type": "display_data"
    },
    {
     "name": "stdout",
     "output_type": "stream",
     "text": [
      "+---------+-------------------------------+----------------------+------+\n",
      "| user_id |           productId           |        score         | rank |\n",
      "+---------+-------------------------------+----------------------+------+\n",
      "|   1100  | 07e19476-ebc2-415c-bbef-88... | 0.14932230927727438  |  1   |\n",
      "|   1100  | 59227abe-045b-4564-b998-a1... | 0.10780241001736034  |  2   |\n",
      "|   1100  | f68dea18-76dc-463e-a3a2-27... | 0.10491615082278397  |  3   |\n",
      "|   1100  | 86cee7f5-5ff1-4cf1-a980-dc... | 0.08381533622741699  |  4   |\n",
      "|   1100  | ccb778dc-79d0-4aed-b358-1e... |  0.0652653511726495  |  5   |\n",
      "|   1100  | 368bda2e-b213-4025-a90f-0d... | 0.06426885814377756  |  6   |\n",
      "|   1100  | 9cadd6eb-777c-4d40-a186-07... | 0.05340827414483735  |  7   |\n",
      "|   1100  | ca380b7f-37dd-44b0-9e0d-34... |  0.0529780342723384  |  8   |\n",
      "|   1100  | fe849f4f-904a-4e77-a0f8-05... | 0.051143778092933426 |  9   |\n",
      "|   1100  | bee36a53-75a7-4d73-8ed1-be... | 0.05098036654067762  |  10  |\n",
      "|    6    |              102              |  0.6324555277824402  |  1   |\n",
      "|    6    |              4414             |  0.4472135901451111  |  2   |\n",
      "|    6    |               86              |  0.4472135901451111  |  3   |\n",
      "|    6    | 8ecd1030-2d30-4c3b-94ad-5e... |  0.4472135901451111  |  4   |\n",
      "|    6    |             10454             |  0.4472135901451111  |  5   |\n",
      "|    6    |              4378             |  0.4472135901451111  |  6   |\n",
      "|    6    |              4150             |  0.4472135901451111  |  7   |\n",
      "|    6    |              4081             |  0.4472135901451111  |  8   |\n",
      "|    6    |              2951             |  0.4472135901451111  |  9   |\n",
      "|    6    |              8748             |  0.4472135901451111  |  10  |\n",
      "|    10   |              294              |  0.4472135901451111  |  1   |\n",
      "|    10   |              340              |  0.4472135901451111  |  2   |\n",
      "|    10   |              419              |  0.4242640733718872  |  3   |\n",
      "|    10   |              2750             |  0.3162277936935425  |  4   |\n",
      "|    10   |              1561             |  0.3162277936935425  |  5   |\n",
      "|    10   | 8ee7c86e-5c3c-4624-85e9-de... |  0.3162277936935425  |  6   |\n",
      "|    10   | e1272eef-0707-477b-aeb5-da... |  0.3162277936935425  |  7   |\n",
      "|    10   |              2745             |  0.3162277936935425  |  8   |\n",
      "|    10   | d2b556a5-fbe2-4f45-b35d-56... |  0.3162277936935425  |  9   |\n",
      "|    10   |              197              |  0.3162277936935425  |  10  |\n",
      "+---------+-------------------------------+----------------------+------+\n",
      "[140 rows x 4 columns]\n",
      "\n"
     ]
    },
    {
     "data": {
      "text/html": [
       "<pre>| 40.762ms                            | 100              | 927             |</pre>"
      ],
      "text/plain": [
       "| 40.762ms                            | 100              | 927             |"
      ]
     },
     "metadata": {},
     "output_type": "display_data"
    },
    {
     "data": {
      "text/html": [
       "<pre>+-------------------------------------+------------------+-----------------+</pre>"
      ],
      "text/plain": [
       "+-------------------------------------+------------------+-----------------+"
      ]
     },
     "metadata": {},
     "output_type": "display_data"
    },
    {
     "data": {
      "text/html": [
       "<pre>Finalizing lookup tables.</pre>"
      ],
      "text/plain": [
       "Finalizing lookup tables."
      ]
     },
     "metadata": {},
     "output_type": "display_data"
    },
    {
     "data": {
      "text/html": [
       "<pre>Generating candidate set for working with new users.</pre>"
      ],
      "text/plain": [
       "Generating candidate set for working with new users."
      ]
     },
     "metadata": {},
     "output_type": "display_data"
    },
    {
     "data": {
      "text/html": [
       "<pre>Finished training in 0.042282s</pre>"
      ],
      "text/plain": [
       "Finished training in 0.042282s"
      ]
     },
     "metadata": {},
     "output_type": "display_data"
    }
   ],
   "source": [
    "name = 'cosine'\n",
    "target = 'purchase_count'\n",
    "cos = model(train_data, name, user_id, item_id, target, users_to_recommend, n_rec, n_display)"
   ]
  },
  {
   "cell_type": "code",
   "execution_count": 105,
   "metadata": {},
   "outputs": [
    {
     "data": {
      "text/html": [
       "<pre>Preparing data set.</pre>"
      ],
      "text/plain": [
       "Preparing data set."
      ]
     },
     "metadata": {},
     "output_type": "display_data"
    },
    {
     "data": {
      "text/html": [
       "<pre>    Data has 1384 observations with 26 users and 927 items.</pre>"
      ],
      "text/plain": [
       "    Data has 1384 observations with 26 users and 927 items."
      ]
     },
     "metadata": {},
     "output_type": "display_data"
    },
    {
     "data": {
      "text/html": [
       "<pre>    Data prepared in: 0.032029s</pre>"
      ],
      "text/plain": [
       "    Data prepared in: 0.032029s"
      ]
     },
     "metadata": {},
     "output_type": "display_data"
    },
    {
     "data": {
      "text/html": [
       "<pre>Training model from provided data.</pre>"
      ],
      "text/plain": [
       "Training model from provided data."
      ]
     },
     "metadata": {},
     "output_type": "display_data"
    },
    {
     "data": {
      "text/html": [
       "<pre>Gathering per-item and per-user statistics.</pre>"
      ],
      "text/plain": [
       "Gathering per-item and per-user statistics."
      ]
     },
     "metadata": {},
     "output_type": "display_data"
    },
    {
     "data": {
      "text/html": [
       "<pre>+--------------------------------+------------+</pre>"
      ],
      "text/plain": [
       "+--------------------------------+------------+"
      ]
     },
     "metadata": {},
     "output_type": "display_data"
    },
    {
     "data": {
      "text/html": [
       "<pre>| Elapsed Time (Item Statistics) | % Complete |</pre>"
      ],
      "text/plain": [
       "| Elapsed Time (Item Statistics) | % Complete |"
      ]
     },
     "metadata": {},
     "output_type": "display_data"
    },
    {
     "data": {
      "text/html": [
       "<pre>+--------------------------------+------------+</pre>"
      ],
      "text/plain": [
       "+--------------------------------+------------+"
      ]
     },
     "metadata": {},
     "output_type": "display_data"
    },
    {
     "data": {
      "text/html": [
       "<pre>| 2.523ms                        | 100        |</pre>"
      ],
      "text/plain": [
       "| 2.523ms                        | 100        |"
      ]
     },
     "metadata": {},
     "output_type": "display_data"
    },
    {
     "data": {
      "text/html": [
       "<pre>+--------------------------------+------------+</pre>"
      ],
      "text/plain": [
       "+--------------------------------+------------+"
      ]
     },
     "metadata": {},
     "output_type": "display_data"
    },
    {
     "data": {
      "text/html": [
       "<pre>Setting up lookup tables.</pre>"
      ],
      "text/plain": [
       "Setting up lookup tables."
      ]
     },
     "metadata": {},
     "output_type": "display_data"
    },
    {
     "data": {
      "text/html": [
       "<pre>Processing data in one pass using dense lookup tables.</pre>"
      ],
      "text/plain": [
       "Processing data in one pass using dense lookup tables."
      ]
     },
     "metadata": {},
     "output_type": "display_data"
    },
    {
     "data": {
      "text/html": [
       "<pre>+-------------------------------------+------------------+-----------------+</pre>"
      ],
      "text/plain": [
       "+-------------------------------------+------------------+-----------------+"
      ]
     },
     "metadata": {},
     "output_type": "display_data"
    },
    {
     "name": "stdout",
     "output_type": "stream",
     "text": [
      "+---------+-------------------------------+--------------------+------+\n",
      "| user_id |           productId           |       score        | rank |\n",
      "+---------+-------------------------------+--------------------+------+\n",
      "|   1100  |               86              |        5.0         |  1   |\n",
      "|   1100  |              422              | 3.4972643102660323 |  2   |\n",
      "|   1100  |              200              | 3.4972643102660323 |  3   |\n",
      "|   1100  |              456              |        3.0         |  4   |\n",
      "|   1100  |              458              |        3.0         |  5   |\n",
      "|   1100  |              459              |        3.0         |  6   |\n",
      "|   1100  |              250              | 2.9972643102660323 |  7   |\n",
      "|   1100  |               87              | 2.9972643102660323 |  8   |\n",
      "|   1100  |              423              | 2.4972643102660323 |  9   |\n",
      "|   1100  |              144              | 2.4094863624283764 |  10  |\n",
      "|    6    |               86              |        5.0         |  1   |\n",
      "|    6    |              422              |       3.4375       |  2   |\n",
      "|    6    |              200              |       3.4375       |  3   |\n",
      "|    6    | dd9554ce-e674-4956-a90a-a8... |        3.0         |  4   |\n",
      "|    6    | d0e0618c-041b-40a4-a2b1-e4... |        3.0         |  5   |\n",
      "|    6    |              456              |        3.0         |  6   |\n",
      "|    6    |              458              |        3.0         |  7   |\n",
      "|    6    |              459              |        3.0         |  8   |\n",
      "|    6    |              250              |       2.9375       |  9   |\n",
      "|    6    |               87              |       2.9375       |  10  |\n",
      "|    10   |               86              |        5.0         |  1   |\n",
      "|    10   |              422              |        3.5         |  2   |\n",
      "|    10   |              200              |        3.5         |  3   |\n",
      "|    10   | dd9554ce-e674-4956-a90a-a8... |        3.0         |  4   |\n",
      "|    10   | d0e0618c-041b-40a4-a2b1-e4... |        3.0         |  5   |\n",
      "|    10   |              456              |        3.0         |  6   |\n",
      "|    10   |              250              |        3.0         |  7   |\n",
      "|    10   |              458              |        3.0         |  8   |\n",
      "|    10   |              459              |        3.0         |  9   |\n",
      "|    10   |               87              |        3.0         |  10  |\n",
      "+---------+-------------------------------+--------------------+------+\n",
      "[140 rows x 4 columns]\n",
      "\n"
     ]
    },
    {
     "data": {
      "text/html": [
       "<pre>| Elapsed Time (Constructing Lookups) | Total % Complete | Items Processed |</pre>"
      ],
      "text/plain": [
       "| Elapsed Time (Constructing Lookups) | Total % Complete | Items Processed |"
      ]
     },
     "metadata": {},
     "output_type": "display_data"
    },
    {
     "data": {
      "text/html": [
       "<pre>+-------------------------------------+------------------+-----------------+</pre>"
      ],
      "text/plain": [
       "+-------------------------------------+------------------+-----------------+"
      ]
     },
     "metadata": {},
     "output_type": "display_data"
    },
    {
     "data": {
      "text/html": [
       "<pre>| 7.171ms                             | 31.75            | 294             |</pre>"
      ],
      "text/plain": [
       "| 7.171ms                             | 31.75            | 294             |"
      ]
     },
     "metadata": {},
     "output_type": "display_data"
    },
    {
     "data": {
      "text/html": [
       "<pre>| 32.06ms                             | 100              | 927             |</pre>"
      ],
      "text/plain": [
       "| 32.06ms                             | 100              | 927             |"
      ]
     },
     "metadata": {},
     "output_type": "display_data"
    },
    {
     "data": {
      "text/html": [
       "<pre>+-------------------------------------+------------------+-----------------+</pre>"
      ],
      "text/plain": [
       "+-------------------------------------+------------------+-----------------+"
      ]
     },
     "metadata": {},
     "output_type": "display_data"
    },
    {
     "data": {
      "text/html": [
       "<pre>Finalizing lookup tables.</pre>"
      ],
      "text/plain": [
       "Finalizing lookup tables."
      ]
     },
     "metadata": {},
     "output_type": "display_data"
    },
    {
     "data": {
      "text/html": [
       "<pre>Generating candidate set for working with new users.</pre>"
      ],
      "text/plain": [
       "Generating candidate set for working with new users."
      ]
     },
     "metadata": {},
     "output_type": "display_data"
    },
    {
     "data": {
      "text/html": [
       "<pre>Finished training in 0.036954s</pre>"
      ],
      "text/plain": [
       "Finished training in 0.036954s"
      ]
     },
     "metadata": {},
     "output_type": "display_data"
    }
   ],
   "source": [
    "name = 'pearson'\n",
    "target = 'purchase_count'\n",
    "pea = model(train_data, name, user_id, item_id, target, users_to_recommend, n_rec, n_display)"
   ]
  },
  {
   "cell_type": "code",
   "execution_count": 89,
   "metadata": {},
   "outputs": [
    {
     "data": {
      "text/html": [
       "<pre>Preparing data set.</pre>"
      ],
      "text/plain": [
       "Preparing data set."
      ]
     },
     "metadata": {},
     "output_type": "display_data"
    },
    {
     "data": {
      "text/html": [
       "<pre>    Data has 1384 observations with 26 users and 927 items.</pre>"
      ],
      "text/plain": [
       "    Data has 1384 observations with 26 users and 927 items."
      ]
     },
     "metadata": {},
     "output_type": "display_data"
    },
    {
     "data": {
      "text/html": [
       "<pre>    Data prepared in: 0.01362s</pre>"
      ],
      "text/plain": [
       "    Data prepared in: 0.01362s"
      ]
     },
     "metadata": {},
     "output_type": "display_data"
    },
    {
     "data": {
      "text/html": [
       "<pre>Training model from provided data.</pre>"
      ],
      "text/plain": [
       "Training model from provided data."
      ]
     },
     "metadata": {},
     "output_type": "display_data"
    },
    {
     "data": {
      "text/html": [
       "<pre>Gathering per-item and per-user statistics.</pre>"
      ],
      "text/plain": [
       "Gathering per-item and per-user statistics."
      ]
     },
     "metadata": {},
     "output_type": "display_data"
    },
    {
     "data": {
      "text/html": [
       "<pre>+--------------------------------+------------+</pre>"
      ],
      "text/plain": [
       "+--------------------------------+------------+"
      ]
     },
     "metadata": {},
     "output_type": "display_data"
    },
    {
     "data": {
      "text/html": [
       "<pre>| Elapsed Time (Item Statistics) | % Complete |</pre>"
      ],
      "text/plain": [
       "| Elapsed Time (Item Statistics) | % Complete |"
      ]
     },
     "metadata": {},
     "output_type": "display_data"
    },
    {
     "data": {
      "text/html": [
       "<pre>+--------------------------------+------------+</pre>"
      ],
      "text/plain": [
       "+--------------------------------+------------+"
      ]
     },
     "metadata": {},
     "output_type": "display_data"
    },
    {
     "data": {
      "text/html": [
       "<pre>| 4.267ms                        | 100        |</pre>"
      ],
      "text/plain": [
       "| 4.267ms                        | 100        |"
      ]
     },
     "metadata": {},
     "output_type": "display_data"
    },
    {
     "data": {
      "text/html": [
       "<pre>+--------------------------------+------------+</pre>"
      ],
      "text/plain": [
       "+--------------------------------+------------+"
      ]
     },
     "metadata": {},
     "output_type": "display_data"
    },
    {
     "data": {
      "text/html": [
       "<pre>Setting up lookup tables.</pre>"
      ],
      "text/plain": [
       "Setting up lookup tables."
      ]
     },
     "metadata": {},
     "output_type": "display_data"
    },
    {
     "data": {
      "text/html": [
       "<pre>Processing data in one pass using dense lookup tables.</pre>"
      ],
      "text/plain": [
       "Processing data in one pass using dense lookup tables."
      ]
     },
     "metadata": {},
     "output_type": "display_data"
    },
    {
     "data": {
      "text/html": [
       "<pre>+-------------------------------------+------------------+-----------------+</pre>"
      ],
      "text/plain": [
       "+-------------------------------------+------------------+-----------------+"
      ]
     },
     "metadata": {},
     "output_type": "display_data"
    },
    {
     "name": "stdout",
     "output_type": "stream",
     "text": [
      "+---------+-------------------------------+---------------------+------+\n",
      "| user_id |           productId           |        score        | rank |\n",
      "+---------+-------------------------------+---------------------+------+\n",
      "|   1100  | ca380b7f-37dd-44b0-9e0d-34... | 0.22941918987216373 |  1   |\n",
      "|   1100  | ccb778dc-79d0-4aed-b358-1e... | 0.21654040163213556 |  2   |\n",
      "|   1100  | f68dea18-76dc-463e-a3a2-27... | 0.21369047779025455 |  3   |\n",
      "|   1100  | bee36a53-75a7-4d73-8ed1-be... |  0.208964644056378  |  4   |\n",
      "|   1100  | 86cee7f5-5ff1-4cf1-a980-dc... | 0.20189393831021857 |  5   |\n",
      "|   1100  | 3f30ca95-6e6e-4a43-aa76-8f... | 0.18549783302075934 |  6   |\n",
      "|   1100  | 000051b3-1cbd-47d3-8e00-e2... | 0.18323111714738788 |  7   |\n",
      "|   1100  | fe53696f-5592-433d-a8e2-48... | 0.18146344206549905 |  8   |\n",
      "|   1100  | 368bda2e-b213-4025-a90f-0d... | 0.17433260877927145 |  9   |\n",
      "|   1100  | 07e19476-ebc2-415c-bbef-88... | 0.17159090800718826 |  10  |\n",
      "|    6    |              4414             |         0.25        |  1   |\n",
      "|    6    |               86              |         0.25        |  2   |\n",
      "|    6    | 8ecd1030-2d30-4c3b-94ad-5e... |         0.25        |  3   |\n",
      "|    6    |             10454             |         0.25        |  4   |\n",
      "|    6    |              4378             |         0.25        |  5   |\n",
      "|    6    |              4150             |         0.25        |  6   |\n",
      "|    6    |              4081             |         0.25        |  7   |\n",
      "|    6    |              2951             |         0.25        |  8   |\n",
      "|    6    |              8748             |         0.25        |  9   |\n",
      "|    6    |              2889             |         0.25        |  10  |\n",
      "|    10   |              294              |         0.25        |  1   |\n",
      "|    10   |              340              |         0.25        |  2   |\n",
      "|    10   |              419              |         0.25        |  3   |\n",
      "|    10   |               40              | 0.19999998807907104 |  4   |\n",
      "|    10   |              1561             |        0.125        |  5   |\n",
      "|    10   | 8ee7c86e-5c3c-4624-85e9-de... |        0.125        |  6   |\n",
      "|    10   | e1272eef-0707-477b-aeb5-da... |        0.125        |  7   |\n",
      "|    10   |              2745             |        0.125        |  8   |\n",
      "|    10   | d2b556a5-fbe2-4f45-b35d-56... |        0.125        |  9   |\n",
      "|    10   |              197              |        0.125        |  10  |\n",
      "+---------+-------------------------------+---------------------+------+\n",
      "[140 rows x 4 columns]\n",
      "\n"
     ]
    },
    {
     "data": {
      "text/html": [
       "<pre>| Elapsed Time (Constructing Lookups) | Total % Complete | Items Processed |</pre>"
      ],
      "text/plain": [
       "| Elapsed Time (Constructing Lookups) | Total % Complete | Items Processed |"
      ]
     },
     "metadata": {},
     "output_type": "display_data"
    },
    {
     "data": {
      "text/html": [
       "<pre>+-------------------------------------+------------------+-----------------+</pre>"
      ],
      "text/plain": [
       "+-------------------------------------+------------------+-----------------+"
      ]
     },
     "metadata": {},
     "output_type": "display_data"
    },
    {
     "data": {
      "text/html": [
       "<pre>| 6.578ms                             | 31.75            | 294             |</pre>"
      ],
      "text/plain": [
       "| 6.578ms                             | 31.75            | 294             |"
      ]
     },
     "metadata": {},
     "output_type": "display_data"
    },
    {
     "data": {
      "text/html": [
       "<pre>| 38.91ms                             | 100              | 927             |</pre>"
      ],
      "text/plain": [
       "| 38.91ms                             | 100              | 927             |"
      ]
     },
     "metadata": {},
     "output_type": "display_data"
    },
    {
     "data": {
      "text/html": [
       "<pre>+-------------------------------------+------------------+-----------------+</pre>"
      ],
      "text/plain": [
       "+-------------------------------------+------------------+-----------------+"
      ]
     },
     "metadata": {},
     "output_type": "display_data"
    },
    {
     "data": {
      "text/html": [
       "<pre>Finalizing lookup tables.</pre>"
      ],
      "text/plain": [
       "Finalizing lookup tables."
      ]
     },
     "metadata": {},
     "output_type": "display_data"
    },
    {
     "data": {
      "text/html": [
       "<pre>Generating candidate set for working with new users.</pre>"
      ],
      "text/plain": [
       "Generating candidate set for working with new users."
      ]
     },
     "metadata": {},
     "output_type": "display_data"
    },
    {
     "data": {
      "text/html": [
       "<pre>Finished training in 0.041348s</pre>"
      ],
      "text/plain": [
       "Finished training in 0.041348s"
      ]
     },
     "metadata": {},
     "output_type": "display_data"
    }
   ],
   "source": [
    "name = 'jaccard'\n",
    "target = 'purchase_count'\n",
    "jac = model(train_data, name, user_id, item_id, target, users_to_recommend, n_rec, n_display)"
   ]
  },
  {
   "cell_type": "code",
   "execution_count": 106,
   "metadata": {},
   "outputs": [
    {
     "data": {
      "text/html": [
       "<pre>Preparing data set.</pre>"
      ],
      "text/plain": [
       "Preparing data set."
      ]
     },
     "metadata": {},
     "output_type": "display_data"
    },
    {
     "data": {
      "text/html": [
       "<pre>    Data has 1384 observations with 26 users and 927 items.</pre>"
      ],
      "text/plain": [
       "    Data has 1384 observations with 26 users and 927 items."
      ]
     },
     "metadata": {},
     "output_type": "display_data"
    },
    {
     "data": {
      "text/html": [
       "<pre>    Data prepared in: 0.026934s</pre>"
      ],
      "text/plain": [
       "    Data prepared in: 0.026934s"
      ]
     },
     "metadata": {},
     "output_type": "display_data"
    },
    {
     "data": {
      "text/html": [
       "<pre>Training ranking_factorization_recommender for recommendations.</pre>"
      ],
      "text/plain": [
       "Training ranking_factorization_recommender for recommendations."
      ]
     },
     "metadata": {},
     "output_type": "display_data"
    },
    {
     "data": {
      "text/html": [
       "<pre>+--------------------------------+--------------------------------------------------+----------+</pre>"
      ],
      "text/plain": [
       "+--------------------------------+--------------------------------------------------+----------+"
      ]
     },
     "metadata": {},
     "output_type": "display_data"
    },
    {
     "data": {
      "text/html": [
       "<pre>| Parameter                      | Description                                      | Value    |</pre>"
      ],
      "text/plain": [
       "| Parameter                      | Description                                      | Value    |"
      ]
     },
     "metadata": {},
     "output_type": "display_data"
    },
    {
     "data": {
      "text/html": [
       "<pre>+--------------------------------+--------------------------------------------------+----------+</pre>"
      ],
      "text/plain": [
       "+--------------------------------+--------------------------------------------------+----------+"
      ]
     },
     "metadata": {},
     "output_type": "display_data"
    },
    {
     "data": {
      "text/html": [
       "<pre>| num_factors                    | Factor Dimension                                 | 32       |</pre>"
      ],
      "text/plain": [
       "| num_factors                    | Factor Dimension                                 | 32       |"
      ]
     },
     "metadata": {},
     "output_type": "display_data"
    },
    {
     "data": {
      "text/html": [
       "<pre>| regularization                 | L2 Regularization on Factors                     | 1e-09    |</pre>"
      ],
      "text/plain": [
       "| regularization                 | L2 Regularization on Factors                     | 1e-09    |"
      ]
     },
     "metadata": {},
     "output_type": "display_data"
    },
    {
     "data": {
      "text/html": [
       "<pre>| solver                         | Solver used for training                         | sgd      |</pre>"
      ],
      "text/plain": [
       "| solver                         | Solver used for training                         | sgd      |"
      ]
     },
     "metadata": {},
     "output_type": "display_data"
    },
    {
     "data": {
      "text/html": [
       "<pre>| linear_regularization          | L2 Regularization on Linear Coefficients         | 1e-09    |</pre>"
      ],
      "text/plain": [
       "| linear_regularization          | L2 Regularization on Linear Coefficients         | 1e-09    |"
      ]
     },
     "metadata": {},
     "output_type": "display_data"
    },
    {
     "data": {
      "text/html": [
       "<pre>| ranking_regularization         | Rank-based Regularization Weight                 | 0.25     |</pre>"
      ],
      "text/plain": [
       "| ranking_regularization         | Rank-based Regularization Weight                 | 0.25     |"
      ]
     },
     "metadata": {},
     "output_type": "display_data"
    },
    {
     "data": {
      "text/html": [
       "<pre>| max_iterations                 | Maximum Number of Iterations                     | 25       |</pre>"
      ],
      "text/plain": [
       "| max_iterations                 | Maximum Number of Iterations                     | 25       |"
      ]
     },
     "metadata": {},
     "output_type": "display_data"
    },
    {
     "data": {
      "text/html": [
       "<pre>+--------------------------------+--------------------------------------------------+----------+</pre>"
      ],
      "text/plain": [
       "+--------------------------------+--------------------------------------------------+----------+"
      ]
     },
     "metadata": {},
     "output_type": "display_data"
    },
    {
     "data": {
      "text/html": [
       "<pre>  Optimizing model using SGD; tuning step size.</pre>"
      ],
      "text/plain": [
       "  Optimizing model using SGD; tuning step size."
      ]
     },
     "metadata": {},
     "output_type": "display_data"
    },
    {
     "data": {
      "text/html": [
       "<pre>  Using 1384 / 1384 points for tuning the step size.</pre>"
      ],
      "text/plain": [
       "  Using 1384 / 1384 points for tuning the step size."
      ]
     },
     "metadata": {},
     "output_type": "display_data"
    },
    {
     "data": {
      "text/html": [
       "<pre>+---------+-------------------+------------------------------------------+</pre>"
      ],
      "text/plain": [
       "+---------+-------------------+------------------------------------------+"
      ]
     },
     "metadata": {},
     "output_type": "display_data"
    },
    {
     "data": {
      "text/html": [
       "<pre>| Attempt | Initial Step Size | Estimated Objective Value                |</pre>"
      ],
      "text/plain": [
       "| Attempt | Initial Step Size | Estimated Objective Value                |"
      ]
     },
     "metadata": {},
     "output_type": "display_data"
    },
    {
     "data": {
      "text/html": [
       "<pre>+---------+-------------------+------------------------------------------+</pre>"
      ],
      "text/plain": [
       "+---------+-------------------+------------------------------------------+"
      ]
     },
     "metadata": {},
     "output_type": "display_data"
    },
    {
     "data": {
      "text/html": [
       "<pre>| 0       | 25                | Not Viable                               |</pre>"
      ],
      "text/plain": [
       "| 0       | 25                | Not Viable                               |"
      ]
     },
     "metadata": {},
     "output_type": "display_data"
    },
    {
     "data": {
      "text/html": [
       "<pre>| 1       | 6.25              | Not Viable                               |</pre>"
      ],
      "text/plain": [
       "| 1       | 6.25              | Not Viable                               |"
      ]
     },
     "metadata": {},
     "output_type": "display_data"
    },
    {
     "data": {
      "text/html": [
       "<pre>| 2       | 1.5625            | Not Viable                               |</pre>"
      ],
      "text/plain": [
       "| 2       | 1.5625            | Not Viable                               |"
      ]
     },
     "metadata": {},
     "output_type": "display_data"
    },
    {
     "data": {
      "text/html": [
       "<pre>| 3       | 0.390625          | 0.264243                                 |</pre>"
      ],
      "text/plain": [
       "| 3       | 0.390625          | 0.264243                                 |"
      ]
     },
     "metadata": {},
     "output_type": "display_data"
    },
    {
     "data": {
      "text/html": [
       "<pre>| 4       | 0.195312          | 0.427372                                 |</pre>"
      ],
      "text/plain": [
       "| 4       | 0.195312          | 0.427372                                 |"
      ]
     },
     "metadata": {},
     "output_type": "display_data"
    },
    {
     "data": {
      "text/html": [
       "<pre>| 5       | 0.0976562         | 0.417363                                 |</pre>"
      ],
      "text/plain": [
       "| 5       | 0.0976562         | 0.417363                                 |"
      ]
     },
     "metadata": {},
     "output_type": "display_data"
    },
    {
     "data": {
      "text/html": [
       "<pre>| 6       | 0.0488281         | 0.413951                                 |</pre>"
      ],
      "text/plain": [
       "| 6       | 0.0488281         | 0.413951                                 |"
      ]
     },
     "metadata": {},
     "output_type": "display_data"
    },
    {
     "data": {
      "text/html": [
       "<pre>+---------+-------------------+------------------------------------------+</pre>"
      ],
      "text/plain": [
       "+---------+-------------------+------------------------------------------+"
      ]
     },
     "metadata": {},
     "output_type": "display_data"
    },
    {
     "data": {
      "text/html": [
       "<pre>| Final   | 0.390625          | 0.264243                                 |</pre>"
      ],
      "text/plain": [
       "| Final   | 0.390625          | 0.264243                                 |"
      ]
     },
     "metadata": {},
     "output_type": "display_data"
    },
    {
     "data": {
      "text/html": [
       "<pre>+---------+-------------------+------------------------------------------+</pre>"
      ],
      "text/plain": [
       "+---------+-------------------+------------------------------------------+"
      ]
     },
     "metadata": {},
     "output_type": "display_data"
    },
    {
     "data": {
      "text/html": [
       "<pre>Starting Optimization.</pre>"
      ],
      "text/plain": [
       "Starting Optimization."
      ]
     },
     "metadata": {},
     "output_type": "display_data"
    },
    {
     "data": {
      "text/html": [
       "<pre>+---------+--------------+-------------------+-----------------------+-------------+</pre>"
      ],
      "text/plain": [
       "+---------+--------------+-------------------+-----------------------+-------------+"
      ]
     },
     "metadata": {},
     "output_type": "display_data"
    },
    {
     "data": {
      "text/html": [
       "<pre>| Iter.   | Elapsed Time | Approx. Objective | Approx. Training RMSE | Step Size   |</pre>"
      ],
      "text/plain": [
       "| Iter.   | Elapsed Time | Approx. Objective | Approx. Training RMSE | Step Size   |"
      ]
     },
     "metadata": {},
     "output_type": "display_data"
    },
    {
     "data": {
      "text/html": [
       "<pre>+---------+--------------+-------------------+-----------------------+-------------+</pre>"
      ],
      "text/plain": [
       "+---------+--------------+-------------------+-----------------------+-------------+"
      ]
     },
     "metadata": {},
     "output_type": "display_data"
    },
    {
     "data": {
      "text/html": [
       "<pre>| Initial | 261us        | 0.606235          | 0.555915              |             |</pre>"
      ],
      "text/plain": [
       "| Initial | 261us        | 0.606235          | 0.555915              |             |"
      ]
     },
     "metadata": {},
     "output_type": "display_data"
    },
    {
     "data": {
      "text/html": [
       "<pre>+---------+--------------+-------------------+-----------------------+-------------+</pre>"
      ],
      "text/plain": [
       "+---------+--------------+-------------------+-----------------------+-------------+"
      ]
     },
     "metadata": {},
     "output_type": "display_data"
    },
    {
     "data": {
      "text/html": [
       "<pre>| 1       | 2.804ms      | 0.687073          | 0.624495              | 0.390625    |</pre>"
      ],
      "text/plain": [
       "| 1       | 2.804ms      | 0.687073          | 0.624495              | 0.390625    |"
      ]
     },
     "metadata": {},
     "output_type": "display_data"
    },
    {
     "data": {
      "text/html": [
       "<pre>| 2       | 5.297ms      | 0.658028          | 0.563409              | 0.232267    |</pre>"
      ],
      "text/plain": [
       "| 2       | 5.297ms      | 0.658028          | 0.563409              | 0.232267    |"
      ]
     },
     "metadata": {},
     "output_type": "display_data"
    },
    {
     "data": {
      "text/html": [
       "<pre>| 3       | 7.856ms      | 0.548299          | 0.51323               | 0.171364    |</pre>"
      ],
      "text/plain": [
       "| 3       | 7.856ms      | 0.548299          | 0.51323               | 0.171364    |"
      ]
     },
     "metadata": {},
     "output_type": "display_data"
    },
    {
     "data": {
      "text/html": [
       "<pre>| 4       | 9.935ms      | 0.40158           | 0.386497              | 0.116134    |</pre>"
      ],
      "text/plain": [
       "| 4       | 9.935ms      | 0.40158           | 0.386497              | 0.116134    |"
      ]
     },
     "metadata": {},
     "output_type": "display_data"
    },
    {
     "data": {
      "text/html": [
       "<pre>| 5       | 14.102ms     | 0.291699          | 0.320031              | 0.098237    |</pre>"
      ],
      "text/plain": [
       "| 5       | 14.102ms     | 0.291699          | 0.320031              | 0.098237    |"
      ]
     },
     "metadata": {},
     "output_type": "display_data"
    },
    {
     "data": {
      "text/html": [
       "<pre>| 10      | 30.736ms     | 0.131262          | 0.20658               | 0.0584121   |</pre>"
      ],
      "text/plain": [
       "| 10      | 30.736ms     | 0.131262          | 0.20658               | 0.0584121   |"
      ]
     },
     "metadata": {},
     "output_type": "display_data"
    },
    {
     "data": {
      "text/html": [
       "<pre>| 25      | 80.626ms     | 0.0556736         | 0.114967              | 0.0293797   |</pre>"
      ],
      "text/plain": [
       "| 25      | 80.626ms     | 0.0556736         | 0.114967              | 0.0293797   |"
      ]
     },
     "metadata": {},
     "output_type": "display_data"
    },
    {
     "data": {
      "text/html": [
       "<pre>+---------+--------------+-------------------+-----------------------+-------------+</pre>"
      ],
      "text/plain": [
       "+---------+--------------+-------------------+-----------------------+-------------+"
      ]
     },
     "metadata": {},
     "output_type": "display_data"
    },
    {
     "data": {
      "text/html": [
       "<pre>Optimization Complete: Maximum number of passes through the data reached.</pre>"
      ],
      "text/plain": [
       "Optimization Complete: Maximum number of passes through the data reached."
      ]
     },
     "metadata": {},
     "output_type": "display_data"
    },
    {
     "data": {
      "text/html": [
       "<pre>Computing final objective value and training RMSE.</pre>"
      ],
      "text/plain": [
       "Computing final objective value and training RMSE."
      ]
     },
     "metadata": {},
     "output_type": "display_data"
    },
    {
     "data": {
      "text/html": [
       "<pre>       Final objective value: 0.0532713</pre>"
      ],
      "text/plain": [
       "       Final objective value: 0.0532713"
      ]
     },
     "metadata": {},
     "output_type": "display_data"
    },
    {
     "data": {
      "text/html": [
       "<pre>       Final training RMSE: 0.102735</pre>"
      ],
      "text/plain": [
       "       Final training RMSE: 0.102735"
      ]
     },
     "metadata": {},
     "output_type": "display_data"
    },
    {
     "name": "stdout",
     "output_type": "stream",
     "text": [
      "+---------+-------------------------------+---------------------+------+\n",
      "| user_id |           productId           |        score        | rank |\n",
      "+---------+-------------------------------+---------------------+------+\n",
      "|   1100  |              419              |  1.4828988527286924 |  1   |\n",
      "|   1100  | 3f30ca95-6e6e-4a43-aa76-8f... |  0.8090777610767759 |  2   |\n",
      "|   1100  |              197              |  0.7274193977344907 |  3   |\n",
      "|   1100  |              100              | 0.49497010459789403 |  4   |\n",
      "|   1100  |              423              |  0.4863092516888059 |  5   |\n",
      "|   1100  | 59227abe-045b-4564-b998-a1... | 0.48256882181057104 |  6   |\n",
      "|   1100  | fe849f4f-904a-4e77-a0f8-05... |  0.4710294221867002 |  7   |\n",
      "|   1100  |              418              | 0.46731700649150976 |  8   |\n",
      "|   1100  | 8dd4935c-1124-40d9-8116-74... |  0.4208735441196836 |  9   |\n",
      "|   1100  | b9aa48d7-1589-4580-ad0d-5b... |  0.4015895341862119 |  10  |\n",
      "|    6    | eb379655-d3c3-42bd-95c0-c8... |  1.5803347257305063 |  1   |\n",
      "|    6    |              144              |  1.5218018022704995 |  2   |\n",
      "|    6    |              197              |  1.491699519507972  |  3   |\n",
      "|    6    | 3921b850-e11d-47c5-b0f7-5c... |  1.4827268448997415 |  4   |\n",
      "|    6    | 4282f52d-14ab-4684-8c99-d6... |  1.4787685004402078 |  5   |\n",
      "|    6    |              419              |  1.4650165167976297 |  6   |\n",
      "|    6    |               25              |  1.4604195681739724 |  7   |\n",
      "|    6    | 9a4737a2-926a-4c85-9816-78... |  1.4600897458721078 |  8   |\n",
      "|    6    |               87              |  1.4231586781669534 |  9   |\n",
      "|    6    | fe53696f-5592-433d-a8e2-48... |  1.417744192235557  |  10  |\n",
      "|    10   |              144              |  1.6929566815368957 |  1   |\n",
      "|    10   | eb379655-d3c3-42bd-95c0-c8... |  1.612980361270172  |  2   |\n",
      "|    10   |              422              |  1.6014586344234771 |  3   |\n",
      "|    10   |               25              |  1.5951725795738525 |  4   |\n",
      "|    10   |               87              |  1.5867030575744934 |  5   |\n",
      "|    10   |              250              |  1.581050659703476  |  6   |\n",
      "|    10   | 9a4737a2-926a-4c85-9816-78... |  1.5391682341568298 |  7   |\n",
      "|    10   |              347              |  1.535173828887207  |  8   |\n",
      "|    10   |              197              |  1.5272220626346893 |  9   |\n",
      "|    10   |              423              |  1.5078257575504608 |  10  |\n",
      "+---------+-------------------------------+---------------------+------+\n",
      "[140 rows x 4 columns]\n",
      "\n"
     ]
    }
   ],
   "source": [
    "name = 'ranking_factorization'\n",
    "target = 'purchase_count'\n",
    "r_fac = model(train_data, name, user_id, item_id, target, users_to_recommend, n_rec, n_display)\n"
   ]
  },
  {
   "cell_type": "code",
   "execution_count": 112,
   "metadata": {},
   "outputs": [
    {
     "data": {
      "text/html": [
       "<pre>Preparing data set.</pre>"
      ],
      "text/plain": [
       "Preparing data set."
      ]
     },
     "metadata": {},
     "output_type": "display_data"
    },
    {
     "data": {
      "text/html": [
       "<pre>    Data has 1384 observations with 26 users and 927 items.</pre>"
      ],
      "text/plain": [
       "    Data has 1384 observations with 26 users and 927 items."
      ]
     },
     "metadata": {},
     "output_type": "display_data"
    },
    {
     "data": {
      "text/html": [
       "<pre>    Data prepared in: 0.023927s</pre>"
      ],
      "text/plain": [
       "    Data prepared in: 0.023927s"
      ]
     },
     "metadata": {},
     "output_type": "display_data"
    },
    {
     "data": {
      "text/html": [
       "<pre>Training factorization_recommender for recommendations.</pre>"
      ],
      "text/plain": [
       "Training factorization_recommender for recommendations."
      ]
     },
     "metadata": {},
     "output_type": "display_data"
    },
    {
     "data": {
      "text/html": [
       "<pre>+--------------------------------+--------------------------------------------------+----------+</pre>"
      ],
      "text/plain": [
       "+--------------------------------+--------------------------------------------------+----------+"
      ]
     },
     "metadata": {},
     "output_type": "display_data"
    },
    {
     "data": {
      "text/html": [
       "<pre>| Parameter                      | Description                                      | Value    |</pre>"
      ],
      "text/plain": [
       "| Parameter                      | Description                                      | Value    |"
      ]
     },
     "metadata": {},
     "output_type": "display_data"
    },
    {
     "data": {
      "text/html": [
       "<pre>+--------------------------------+--------------------------------------------------+----------+</pre>"
      ],
      "text/plain": [
       "+--------------------------------+--------------------------------------------------+----------+"
      ]
     },
     "metadata": {},
     "output_type": "display_data"
    },
    {
     "data": {
      "text/html": [
       "<pre>| num_factors                    | Factor Dimension                                 | 8        |</pre>"
      ],
      "text/plain": [
       "| num_factors                    | Factor Dimension                                 | 8        |"
      ]
     },
     "metadata": {},
     "output_type": "display_data"
    },
    {
     "data": {
      "text/html": [
       "<pre>| regularization                 | L2 Regularization on Factors                     | 1e-08    |</pre>"
      ],
      "text/plain": [
       "| regularization                 | L2 Regularization on Factors                     | 1e-08    |"
      ]
     },
     "metadata": {},
     "output_type": "display_data"
    },
    {
     "data": {
      "text/html": [
       "<pre>| solver                         | Solver used for training                         | sgd      |</pre>"
      ],
      "text/plain": [
       "| solver                         | Solver used for training                         | sgd      |"
      ]
     },
     "metadata": {},
     "output_type": "display_data"
    },
    {
     "data": {
      "text/html": [
       "<pre>| linear_regularization          | L2 Regularization on Linear Coefficients         | 1e-10    |</pre>"
      ],
      "text/plain": [
       "| linear_regularization          | L2 Regularization on Linear Coefficients         | 1e-10    |"
      ]
     },
     "metadata": {},
     "output_type": "display_data"
    },
    {
     "data": {
      "text/html": [
       "<pre>| max_iterations                 | Maximum Number of Iterations                     | 50       |</pre>"
      ],
      "text/plain": [
       "| max_iterations                 | Maximum Number of Iterations                     | 50       |"
      ]
     },
     "metadata": {},
     "output_type": "display_data"
    },
    {
     "data": {
      "text/html": [
       "<pre>+--------------------------------+--------------------------------------------------+----------+</pre>"
      ],
      "text/plain": [
       "+--------------------------------+--------------------------------------------------+----------+"
      ]
     },
     "metadata": {},
     "output_type": "display_data"
    },
    {
     "data": {
      "text/html": [
       "<pre>  Optimizing model using SGD; tuning step size.</pre>"
      ],
      "text/plain": [
       "  Optimizing model using SGD; tuning step size."
      ]
     },
     "metadata": {},
     "output_type": "display_data"
    },
    {
     "data": {
      "text/html": [
       "<pre>  Using 1384 / 1384 points for tuning the step size.</pre>"
      ],
      "text/plain": [
       "  Using 1384 / 1384 points for tuning the step size."
      ]
     },
     "metadata": {},
     "output_type": "display_data"
    },
    {
     "data": {
      "text/html": [
       "<pre>+---------+-------------------+------------------------------------------+</pre>"
      ],
      "text/plain": [
       "+---------+-------------------+------------------------------------------+"
      ]
     },
     "metadata": {},
     "output_type": "display_data"
    },
    {
     "data": {
      "text/html": [
       "<pre>| Attempt | Initial Step Size | Estimated Objective Value                |</pre>"
      ],
      "text/plain": [
       "| Attempt | Initial Step Size | Estimated Objective Value                |"
      ]
     },
     "metadata": {},
     "output_type": "display_data"
    },
    {
     "data": {
      "text/html": [
       "<pre>+---------+-------------------+------------------------------------------+</pre>"
      ],
      "text/plain": [
       "+---------+-------------------+------------------------------------------+"
      ]
     },
     "metadata": {},
     "output_type": "display_data"
    },
    {
     "data": {
      "text/html": [
       "<pre>| 0       | 25                | Not Viable                               |</pre>"
      ],
      "text/plain": [
       "| 0       | 25                | Not Viable                               |"
      ]
     },
     "metadata": {},
     "output_type": "display_data"
    },
    {
     "data": {
      "text/html": [
       "<pre>| 1       | 6.25              | Not Viable                               |</pre>"
      ],
      "text/plain": [
       "| 1       | 6.25              | Not Viable                               |"
      ]
     },
     "metadata": {},
     "output_type": "display_data"
    },
    {
     "data": {
      "text/html": [
       "<pre>| 2       | 1.5625            | Not Viable                               |</pre>"
      ],
      "text/plain": [
       "| 2       | 1.5625            | Not Viable                               |"
      ]
     },
     "metadata": {},
     "output_type": "display_data"
    },
    {
     "data": {
      "text/html": [
       "<pre>| 3       | 0.390625          | 0.0622073                                |</pre>"
      ],
      "text/plain": [
       "| 3       | 0.390625          | 0.0622073                                |"
      ]
     },
     "metadata": {},
     "output_type": "display_data"
    },
    {
     "data": {
      "text/html": [
       "<pre>| 4       | 0.195312          | 0.0719295                                |</pre>"
      ],
      "text/plain": [
       "| 4       | 0.195312          | 0.0719295                                |"
      ]
     },
     "metadata": {},
     "output_type": "display_data"
    },
    {
     "data": {
      "text/html": [
       "<pre>| 5       | 0.0976562         | 0.0852942                                |</pre>"
      ],
      "text/plain": [
       "| 5       | 0.0976562         | 0.0852942                                |"
      ]
     },
     "metadata": {},
     "output_type": "display_data"
    },
    {
     "data": {
      "text/html": [
       "<pre>| 6       | 0.0488281         | 0.110233                                 |</pre>"
      ],
      "text/plain": [
       "| 6       | 0.0488281         | 0.110233                                 |"
      ]
     },
     "metadata": {},
     "output_type": "display_data"
    },
    {
     "data": {
      "text/html": [
       "<pre>+---------+-------------------+------------------------------------------+</pre>"
      ],
      "text/plain": [
       "+---------+-------------------+------------------------------------------+"
      ]
     },
     "metadata": {},
     "output_type": "display_data"
    },
    {
     "data": {
      "text/html": [
       "<pre>| Final   | 0.390625          | 0.0622073                                |</pre>"
      ],
      "text/plain": [
       "| Final   | 0.390625          | 0.0622073                                |"
      ]
     },
     "metadata": {},
     "output_type": "display_data"
    },
    {
     "data": {
      "text/html": [
       "<pre>+---------+-------------------+------------------------------------------+</pre>"
      ],
      "text/plain": [
       "+---------+-------------------+------------------------------------------+"
      ]
     },
     "metadata": {},
     "output_type": "display_data"
    },
    {
     "data": {
      "text/html": [
       "<pre>Starting Optimization.</pre>"
      ],
      "text/plain": [
       "Starting Optimization."
      ]
     },
     "metadata": {},
     "output_type": "display_data"
    },
    {
     "data": {
      "text/html": [
       "<pre>+---------+--------------+-------------------+-----------------------+-------------+</pre>"
      ],
      "text/plain": [
       "+---------+--------------+-------------------+-----------------------+-------------+"
      ]
     },
     "metadata": {},
     "output_type": "display_data"
    },
    {
     "data": {
      "text/html": [
       "<pre>| Iter.   | Elapsed Time | Approx. Objective | Approx. Training RMSE | Step Size   |</pre>"
      ],
      "text/plain": [
       "| Iter.   | Elapsed Time | Approx. Objective | Approx. Training RMSE | Step Size   |"
      ]
     },
     "metadata": {},
     "output_type": "display_data"
    },
    {
     "data": {
      "text/html": [
       "<pre>+---------+--------------+-------------------+-----------------------+-------------+</pre>"
      ],
      "text/plain": [
       "+---------+--------------+-------------------+-----------------------+-------------+"
      ]
     },
     "metadata": {},
     "output_type": "display_data"
    },
    {
     "data": {
      "text/html": [
       "<pre>| Initial | 215us        | 0.309041          | 0.555915              |             |</pre>"
      ],
      "text/plain": [
       "| Initial | 215us        | 0.309041          | 0.555915              |             |"
      ]
     },
     "metadata": {},
     "output_type": "display_data"
    },
    {
     "data": {
      "text/html": [
       "<pre>+---------+--------------+-------------------+-----------------------+-------------+</pre>"
      ],
      "text/plain": [
       "+---------+--------------+-------------------+-----------------------+-------------+"
      ]
     },
     "metadata": {},
     "output_type": "display_data"
    },
    {
     "data": {
      "text/html": [
       "<pre>| 1       | 14.706ms     | 0.282797          | 0.531785              | 0.390625    |</pre>"
      ],
      "text/plain": [
       "| 1       | 14.706ms     | 0.282797          | 0.531785              | 0.390625    |"
      ]
     },
     "metadata": {},
     "output_type": "display_data"
    },
    {
     "data": {
      "text/html": [
       "<pre>| 2       | 32.794ms     | 0.181254          | 0.425739              | 0.232267    |</pre>"
      ],
      "text/plain": [
       "| 2       | 32.794ms     | 0.181254          | 0.425739              | 0.232267    |"
      ]
     },
     "metadata": {},
     "output_type": "display_data"
    },
    {
     "data": {
      "text/html": [
       "<pre>| 3       | 46.182ms     | 0.113216          | 0.336476              | 0.171364    |</pre>"
      ],
      "text/plain": [
       "| 3       | 46.182ms     | 0.113216          | 0.336476              | 0.171364    |"
      ]
     },
     "metadata": {},
     "output_type": "display_data"
    },
    {
     "data": {
      "text/html": [
       "<pre>| 4       | 59.765ms     | 0.0839904         | 0.289811              | 0.138107    |</pre>"
      ],
      "text/plain": [
       "| 4       | 59.765ms     | 0.0839904         | 0.289811              | 0.138107    |"
      ]
     },
     "metadata": {},
     "output_type": "display_data"
    },
    {
     "data": {
      "text/html": [
       "<pre>| 5       | 72.558ms     | 0.0425958         | 0.206387              | 0.116824    |</pre>"
      ],
      "text/plain": [
       "| 5       | 72.558ms     | 0.0425958         | 0.206387              | 0.116824    |"
      ]
     },
     "metadata": {},
     "output_type": "display_data"
    },
    {
     "data": {
      "text/html": [
       "<pre>| 10      | 152.318ms    | 0.0117049         | 0.108188              | 0.069464    |</pre>"
      ],
      "text/plain": [
       "| 10      | 152.318ms    | 0.0117049         | 0.108188              | 0.069464    |"
      ]
     },
     "metadata": {},
     "output_type": "display_data"
    },
    {
     "data": {
      "text/html": [
       "<pre>| 50      | 732.68ms     | 0.000201672       | 0.0141842             | 0.0207746   |</pre>"
      ],
      "text/plain": [
       "| 50      | 732.68ms     | 0.000201672       | 0.0141842             | 0.0207746   |"
      ]
     },
     "metadata": {},
     "output_type": "display_data"
    },
    {
     "data": {
      "text/html": [
       "<pre>+---------+--------------+-------------------+-----------------------+-------------+</pre>"
      ],
      "text/plain": [
       "+---------+--------------+-------------------+-----------------------+-------------+"
      ]
     },
     "metadata": {},
     "output_type": "display_data"
    },
    {
     "data": {
      "text/html": [
       "<pre>Optimization Complete: Maximum number of passes through the data reached.</pre>"
      ],
      "text/plain": [
       "Optimization Complete: Maximum number of passes through the data reached."
      ]
     },
     "metadata": {},
     "output_type": "display_data"
    },
    {
     "data": {
      "text/html": [
       "<pre>Computing final objective value and training RMSE.</pre>"
      ],
      "text/plain": [
       "Computing final objective value and training RMSE."
      ]
     },
     "metadata": {},
     "output_type": "display_data"
    },
    {
     "data": {
      "text/html": [
       "<pre>       Final objective value: 0.000177733</pre>"
      ],
      "text/plain": [
       "       Final objective value: 0.000177733"
      ]
     },
     "metadata": {},
     "output_type": "display_data"
    },
    {
     "data": {
      "text/html": [
       "<pre>       Final training RMSE: 0.0133137</pre>"
      ],
      "text/plain": [
       "       Final training RMSE: 0.0133137"
      ]
     },
     "metadata": {},
     "output_type": "display_data"
    },
    {
     "name": "stdout",
     "output_type": "stream",
     "text": [
      "+---------+-------------------------------+--------------------+------+\n",
      "| user_id |           productId           |       score        | rank |\n",
      "+---------+-------------------------------+--------------------+------+\n",
      "|   1100  |              3585             | 5.529357693098871  |  1   |\n",
      "|   1100  |              3584             | 5.5149948810566345 |  2   |\n",
      "|   1100  |               86              | 4.663260719679681  |  3   |\n",
      "|   1100  |              458              |  4.33412756671795  |  4   |\n",
      "|   1100  | 8efb75a0-8832-4212-a0f9-54... | 4.304685733221857  |  5   |\n",
      "|   1100  |             10416             |  4.29645564308056  |  6   |\n",
      "|   1100  | 8ef77473-a065-4394-985e-4d... | 4.292603514098016  |  7   |\n",
      "|   1100  | 8ed56fcd-e7c1-40ac-8081-65... | 4.291946074866144  |  8   |\n",
      "|   1100  | 8ed56fcd-7cf7-48b6-80aa-c7... | 4.288718244932977  |  9   |\n",
      "|   1100  |              3567             | 4.284606597327081  |  10  |\n",
      "|    6    |               86              | 4.329146704577295  |  1   |\n",
      "|    6    |              422              | 3.451080641650049  |  2   |\n",
      "|    6    |               87              | 3.2296324585903564 |  3   |\n",
      "|    6    |              250              | 3.2284746979702392 |  4   |\n",
      "|    6    |              458              | 3.1643795584667602 |  5   |\n",
      "|    6    |              459              | 3.0113757466305175 |  6   |\n",
      "|    6    |              423              | 3.0081822489727417 |  7   |\n",
      "|    6    |              456              | 2.9381577586162964 |  8   |\n",
      "|    6    |              200              | 2.888742766283838  |  9   |\n",
      "|    6    |              144              | 2.847913942240564  |  10  |\n",
      "|    10   |               86              | 4.536287954949228  |  1   |\n",
      "|    10   |              422              | 3.778285912178842  |  2   |\n",
      "|    10   |               87              | 3.4540023123253265 |  3   |\n",
      "|    10   |              250              | 3.452629974984018  |  4   |\n",
      "|    10   |              200              | 3.421036056183664  |  5   |\n",
      "|    10   |              458              |  3.26335149159321  |  6   |\n",
      "|    10   |              459              | 3.1300340210426727 |  7   |\n",
      "|    10   |              423              | 3.1294273649681488 |  8   |\n",
      "|    10   |              456              | 3.065810850762216  |  9   |\n",
      "|    10   |              144              | 2.9703884636391082 |  10  |\n",
      "+---------+-------------------------------+--------------------+------+\n",
      "[140 rows x 4 columns]\n",
      "\n"
     ]
    }
   ],
   "source": [
    "name = 'factorization'\n",
    "target = 'purchase_count'\n",
    "fac = model(train_data, name, user_id, item_id, target, users_to_recommend, n_rec, n_display)\n"
   ]
  },
  {
   "cell_type": "code",
   "execution_count": 113,
   "metadata": {},
   "outputs": [
    {
     "name": "stdout",
     "output_type": "stream",
     "text": [
      "PROGRESS: Evaluate model Popularity Model on Purchase Counts\n",
      "\n",
      "Precision and recall summary statistics by cutoff\n",
      "+--------+---------------------+----------------------+\n",
      "| cutoff |    mean_precision   |     mean_recall      |\n",
      "+--------+---------------------+----------------------+\n",
      "|   1    | 0.13043478260869565 | 0.007155797101449276 |\n",
      "|   2    | 0.13043478260869565 | 0.011241765480895918 |\n",
      "|   3    | 0.13043478260869568 | 0.02036443628834933  |\n",
      "|   4    | 0.13043478260869565 | 0.025449840015057405 |\n",
      "|   5    | 0.12173913043478261 | 0.028547666102013928 |\n",
      "|   6    | 0.13043478260869565 | 0.035001646903820814 |\n",
      "|   7    | 0.13043478260869562 | 0.03950475249388293  |\n",
      "|   8    | 0.13043478260869565 | 0.044590156220590996 |\n",
      "|   9    |  0.1352657004830918 | 0.056073075475249395 |\n",
      "|   10   | 0.13478260869565217 | 0.060723696593261815 |\n",
      "+--------+---------------------+----------------------+\n",
      "[10 rows x 3 columns]\n",
      "\n",
      "\n",
      "Overall RMSE: 1.1208535533775505\n",
      "\n",
      "Per User RMSE (best)\n",
      "+---------+---------------------+-------+\n",
      "| user_id |         rmse        | count |\n",
      "+---------+---------------------+-------+\n",
      "|    6    | 0.04409539600500234 |   1   |\n",
      "+---------+---------------------+-------+\n",
      "[1 rows x 3 columns]\n",
      "\n",
      "\n",
      "Per User RMSE (worst)\n"
     ]
    },
    {
     "name": "stderr",
     "output_type": "stream",
     "text": [
      "/home/emre/.local/lib/python3.6/site-packages/turicreate/aggregate.py:92: UserWarning: Passing parameter(s) to COUNT is deprecated. This functionality will be removed in the next major release. Any passed parameters are ignored.\n",
      "  + 'the next major release. Any passed parameters are ignored.')\n"
     ]
    },
    {
     "name": "stdout",
     "output_type": "stream",
     "text": [
      "+---------+--------------------+-------+\n",
      "| user_id |        rmse        | count |\n",
      "+---------+--------------------+-------+\n",
      "|   1100  | 2.8014887050052817 |   20  |\n",
      "+---------+--------------------+-------+\n",
      "[1 rows x 3 columns]\n",
      "\n",
      "\n",
      "Per Item RMSE (best)\n",
      "+-----------+-----------------------+-------+\n",
      "| productId |          rmse         | count |\n",
      "+-----------+-----------------------+-------+\n",
      "|   10415   | 0.0019279057752215056 |   1   |\n",
      "+-----------+-----------------------+-------+\n",
      "[1 rows x 3 columns]\n",
      "\n",
      "\n",
      "Per Item RMSE (worst)\n",
      "+-----------+-------------------+-------+\n",
      "| productId |        rmse       | count |\n",
      "+-----------+-------------------+-------+\n",
      "|    249    | 4.596765360582685 |   2   |\n",
      "+-----------+-------------------+-------+\n",
      "[1 rows x 3 columns]\n",
      "\n",
      "PROGRESS: Evaluate model Cosine Similarity on Purchase Counts\n",
      "\n",
      "Precision and recall summary statistics by cutoff\n",
      "+--------+---------------------+----------------------+\n",
      "| cutoff |    mean_precision   |     mean_recall      |\n",
      "+--------+---------------------+----------------------+\n",
      "|   1    | 0.08695652173913043 |  0.0160455486542443  |\n",
      "|   2    | 0.13043478260869565 | 0.027342132505175983 |\n",
      "|   3    | 0.14492753623188404 | 0.037258454106280196 |\n",
      "|   4    | 0.14130434782608695 | 0.041999654934437546 |\n",
      "|   5    | 0.14782608695652175 |  0.0480995514147688  |\n",
      "|   6    | 0.13768115942028986 | 0.061143029675638366 |\n",
      "|   7    | 0.14285714285714285 | 0.06796756383712906  |\n",
      "|   8    | 0.13043478260869565 | 0.06932625948930296  |\n",
      "|   9    | 0.12560386473429952 | 0.07285886818495513  |\n",
      "|   10   | 0.12608695652173912 | 0.07822118702553485  |\n",
      "+--------+---------------------+----------------------+\n",
      "[10 rows x 3 columns]\n",
      "\n",
      "\n",
      "Overall RMSE: 1.2740210515514214\n",
      "\n",
      "Per User RMSE (best)\n",
      "+---------+--------------------+-------+\n",
      "| user_id |        rmse        | count |\n",
      "+---------+--------------------+-------+\n",
      "|   1105  | 0.6250187839780534 |   3   |\n",
      "+---------+--------------------+-------+\n",
      "[1 rows x 3 columns]\n",
      "\n",
      "\n",
      "Per User RMSE (worst)\n",
      "+---------+--------------------+-------+\n",
      "| user_id |        rmse        | count |\n",
      "+---------+--------------------+-------+\n",
      "|   1100  | 2.9082872248259055 |   20  |\n",
      "+---------+--------------------+-------+\n",
      "[1 rows x 3 columns]\n",
      "\n",
      "\n",
      "Per Item RMSE (best)\n",
      "+-------------------------------+--------------------+-------+\n",
      "|           productId           |        rmse        | count |\n",
      "+-------------------------------+--------------------+-------+\n",
      "| 822efa1d-318a-4b87-97a0-24... | 0.4883103547272859 |   1   |\n",
      "+-------------------------------+--------------------+-------+\n",
      "[1 rows x 3 columns]\n",
      "\n",
      "\n",
      "Per Item RMSE (worst)\n",
      "+-----------+------+-------+\n",
      "| productId | rmse | count |\n",
      "+-----------+------+-------+\n",
      "|    249    | 5.0  |   2   |\n",
      "+-----------+------+-------+\n",
      "[1 rows x 3 columns]\n",
      "\n",
      "PROGRESS: Evaluate model Pearson Similarity on Purchase Counts\n",
      "\n",
      "Precision and recall summary statistics by cutoff\n",
      "+--------+----------------------+-----------------------+\n",
      "| cutoff |    mean_precision    |      mean_recall      |\n",
      "+--------+----------------------+-----------------------+\n",
      "|   1    |         0.0          |          0.0          |\n",
      "|   2    |         0.0          |          0.0          |\n",
      "|   3    |         0.0          |          0.0          |\n",
      "|   4    |         0.0          |          0.0          |\n",
      "|   5    | 0.008695652173913044 | 0.0014492753623188406 |\n",
      "|   6    | 0.014492753623188404 |  0.002898550724637681 |\n",
      "|   7    | 0.012422360248447204 |  0.002898550724637681 |\n",
      "|   8    | 0.010869565217391304 |  0.002898550724637681 |\n",
      "|   9    | 0.00966183574879227  |  0.002898550724637681 |\n",
      "|   10   | 0.008695652173913045 | 0.0028985507246376803 |\n",
      "+--------+----------------------+-----------------------+\n",
      "[10 rows x 3 columns]\n",
      "\n",
      "\n",
      "Overall RMSE: 1.0211420606158588\n",
      "\n",
      "Per User RMSE (best)\n",
      "+---------+------+-------+\n",
      "| user_id | rmse | count |\n",
      "+---------+------+-------+\n",
      "|    10   | 0.0  |   1   |\n",
      "+---------+------+-------+\n",
      "[1 rows x 3 columns]\n",
      "\n",
      "\n",
      "Per User RMSE (worst)\n",
      "+---------+--------------------+-------+\n",
      "| user_id |        rmse        | count |\n",
      "+---------+--------------------+-------+\n",
      "|   1100  | 1.9806400349965778 |   20  |\n",
      "+---------+--------------------+-------+\n",
      "[1 rows x 3 columns]\n",
      "\n",
      "\n",
      "Per Item RMSE (best)\n",
      "+-------------------------------+------+-------+\n",
      "|           productId           | rmse | count |\n",
      "+-------------------------------+------+-------+\n",
      "| 8ee5f304-ef69-4283-811d-e5... | 0.0  |   1   |\n",
      "+-------------------------------+------+-------+\n",
      "[1 rows x 3 columns]\n",
      "\n",
      "\n",
      "Per Item RMSE (worst)\n",
      "+-----------+-------------------+-------+\n",
      "| productId |        rmse       | count |\n",
      "+-----------+-------------------+-------+\n",
      "|    249    | 4.242640687119285 |   2   |\n",
      "+-----------+-------------------+-------+\n",
      "[1 rows x 3 columns]\n",
      "\n",
      "PROGRESS: Evaluate model Jaccard Similarity on Purchase Counts\n",
      "\n",
      "Precision and recall summary statistics by cutoff\n",
      "+--------+---------------------+-----------------------+\n",
      "| cutoff |    mean_precision   |      mean_recall      |\n",
      "+--------+---------------------+-----------------------+\n",
      "|   1    | 0.08695652173913043 |  0.003291925465838509 |\n",
      "|   2    | 0.08695652173913043 | 0.0062034161490683234 |\n",
      "|   3    | 0.10144927536231886 |  0.02098602484472049  |\n",
      "|   4    | 0.13043478260869565 |  0.033731884057971014 |\n",
      "|   5    | 0.11304347826086959 |  0.03509057971014493  |\n",
      "|   6    | 0.11594202898550723 |  0.040175983436853004 |\n",
      "|   7    |  0.1366459627329192 |  0.06294254658385093  |\n",
      "|   8    | 0.14130434782608695 |  0.07304520358868186  |\n",
      "|   9    | 0.14009661835748793 |  0.07813060731538993  |\n",
      "|   10   | 0.13478260869565217 |  0.08104209799861974  |\n",
      "+--------+---------------------+-----------------------+\n",
      "[10 rows x 3 columns]\n",
      "\n",
      "\n",
      "Overall RMSE: 1.2866371198545437\n",
      "\n",
      "Per User RMSE (best)\n",
      "+---------+--------------------+-------+\n",
      "| user_id |        rmse        | count |\n",
      "+---------+--------------------+-------+\n",
      "|   1105  | 0.7344701051902958 |   3   |\n",
      "+---------+--------------------+-------+\n",
      "[1 rows x 3 columns]\n",
      "\n",
      "\n",
      "Per User RMSE (worst)\n",
      "+---------+-------------------+-------+\n",
      "| user_id |        rmse       | count |\n",
      "+---------+-------------------+-------+\n",
      "|   1100  | 2.839468963530675 |   20  |\n",
      "+---------+-------------------+-------+\n",
      "[1 rows x 3 columns]\n",
      "\n",
      "\n",
      "Per Item RMSE (best)\n",
      "+-------------------------------+--------------------+-------+\n",
      "|           productId           |        rmse        | count |\n",
      "+-------------------------------+--------------------+-------+\n",
      "| 822efa1d-318a-4b87-97a0-24... | 0.5692239889392146 |   1   |\n",
      "+-------------------------------+--------------------+-------+\n",
      "[1 rows x 3 columns]\n",
      "\n",
      "\n",
      "Per Item RMSE (worst)\n",
      "+-----------+------+-------+\n",
      "| productId | rmse | count |\n",
      "+-----------+------+-------+\n",
      "|    249    | 5.0  |   2   |\n",
      "+-----------+------+-------+\n",
      "[1 rows x 3 columns]\n",
      "\n",
      "PROGRESS: Evaluate model Ranking Factorization on Purchase Counts\n",
      "\n",
      "Precision and recall summary statistics by cutoff\n",
      "+--------+---------------------+----------------------+\n",
      "| cutoff |    mean_precision   |     mean_recall      |\n",
      "+--------+---------------------+----------------------+\n",
      "|   1    | 0.08695652173913043 | 0.007569875776397515 |\n",
      "|   2    | 0.10869565217391304 | 0.012655279503105589 |\n",
      "|   3    | 0.11594202898550723 | 0.029283126293995855 |\n",
      "|   4    | 0.10869565217391304 | 0.03219461697722568  |\n",
      "|   5    | 0.10434782608695654 | 0.034921889704498395 |\n",
      "|   6    | 0.10869565217391304 | 0.04000729343120647  |\n",
      "|   7    | 0.11180124223602483 | 0.04472214379823075  |\n",
      "|   8    | 0.11956521739130435 | 0.06024233013363447  |\n",
      "|   9    | 0.12077294685990338 | 0.06489295125164692  |\n",
      "|   10   | 0.13043478260869568 | 0.07316676077545643  |\n",
      "+--------+---------------------+----------------------+\n",
      "[10 rows x 3 columns]\n",
      "\n",
      "\n",
      "Overall RMSE: 1.1153177519077233\n",
      "\n",
      "Per User RMSE (best)\n",
      "+---------+---------------------+-------+\n",
      "| user_id |         rmse        | count |\n",
      "+---------+---------------------+-------+\n",
      "|    6    | 0.10390028630980619 |   1   |\n",
      "+---------+---------------------+-------+\n",
      "[1 rows x 3 columns]\n",
      "\n",
      "\n",
      "Per User RMSE (worst)\n",
      "+---------+--------------------+-------+\n",
      "| user_id |        rmse        | count |\n",
      "+---------+--------------------+-------+\n",
      "|   1100  | 2.7337369389797783 |   20  |\n",
      "+---------+--------------------+-------+\n",
      "[1 rows x 3 columns]\n",
      "\n",
      "\n",
      "Per Item RMSE (best)\n",
      "+-----------+----------------------+-------+\n",
      "| productId |         rmse         | count |\n",
      "+-----------+----------------------+-------+\n",
      "|    3567   | 0.007290749751416525 |   1   |\n",
      "+-----------+----------------------+-------+\n",
      "[1 rows x 3 columns]\n",
      "\n",
      "\n",
      "Per Item RMSE (worst)\n",
      "+-----------+-------------------+-------+\n",
      "| productId |        rmse       | count |\n",
      "+-----------+-------------------+-------+\n",
      "|    249    | 4.625088407463785 |   2   |\n",
      "+-----------+-------------------+-------+\n",
      "[1 rows x 3 columns]\n",
      "\n",
      "PROGRESS: Evaluate model Factorization on Purchase Counts\n",
      "\n",
      "Precision and recall summary statistics by cutoff\n",
      "+--------+----------------------+-----------------------+\n",
      "| cutoff |    mean_precision    |      mean_recall      |\n",
      "+--------+----------------------+-----------------------+\n",
      "|   1    |         0.0          |          0.0          |\n",
      "|   2    |         0.0          |          0.0          |\n",
      "|   3    | 0.014492753623188404 | 0.0009881422924901185 |\n",
      "|   4    | 0.010869565217391304 | 0.0009881422924901185 |\n",
      "|   5    | 0.008695652173913045 | 0.0009881422924901185 |\n",
      "|   6    | 0.007246376811594202 | 0.0009881422924901185 |\n",
      "|   7    | 0.006211180124223602 | 0.0009881422924901185 |\n",
      "|   8    | 0.005434782608695652 | 0.0009881422924901185 |\n",
      "|   9    | 0.004830917874396135 | 0.0009881422924901185 |\n",
      "|   10   | 0.004347826086956523 | 0.0009881422924901185 |\n",
      "+--------+----------------------+-----------------------+\n",
      "[10 rows x 3 columns]\n",
      "\n",
      "\n",
      "Overall RMSE: 0.43204662275359734\n",
      "\n",
      "Per User RMSE (best)\n",
      "+---------+----------------------+-------+\n",
      "| user_id |         rmse         | count |\n",
      "+---------+----------------------+-------+\n",
      "|   1102  | 0.020090105244437943 |   4   |\n",
      "+---------+----------------------+-------+\n",
      "[1 rows x 3 columns]\n",
      "\n",
      "\n",
      "Per User RMSE (worst)\n",
      "+---------+--------------------+-------+\n",
      "| user_id |        rmse        | count |\n",
      "+---------+--------------------+-------+\n",
      "|    10   | 0.9036363581534601 |   1   |\n",
      "+---------+--------------------+-------+\n",
      "[1 rows x 3 columns]\n",
      "\n",
      "\n",
      "Per Item RMSE (best)\n",
      "+-------------------------------+------------------------+-------+\n",
      "|           productId           |          rmse          | count |\n",
      "+-------------------------------+------------------------+-------+\n",
      "| 204f9b4b-2a73-4264-a387-9d... | 0.00030698900708325816 |   1   |\n",
      "+-------------------------------+------------------------+-------+\n",
      "[1 rows x 3 columns]\n",
      "\n",
      "\n",
      "Per Item RMSE (worst)\n",
      "+-----------+-------------------+-------+\n",
      "| productId |        rmse       | count |\n",
      "+-----------+-------------------+-------+\n",
      "|    249    | 3.560711065624454 |   2   |\n",
      "+-----------+-------------------+-------+\n",
      "[1 rows x 3 columns]\n",
      "\n"
     ]
    }
   ],
   "source": [
    "models_w_counts = [popularity, cos, pear, jac,r_fac, fac]\n",
    "names_w_counts = ['Popularity Model on Purchase Counts', \n",
    "                  'Cosine Similarity on Purchase Counts', \n",
    "                  'Pearson Similarity on Purchase Counts',\n",
    "                 'Jaccard Similarity on Purchase Counts',\n",
    "                 'Ranking Factorization on Purchase Counts',\n",
    "                 'Factorization on Purchase Counts']\n",
    "eval_counts = tc.recommender.util.compare_models(test_data, models_w_counts, model_names=names_w_counts)"
   ]
  },
  {
   "cell_type": "code",
   "execution_count": 114,
   "metadata": {},
   "outputs": [
    {
     "data": {
      "text/html": [
       "<pre>Preparing data set.</pre>"
      ],
      "text/plain": [
       "Preparing data set."
      ]
     },
     "metadata": {},
     "output_type": "display_data"
    },
    {
     "data": {
      "text/html": [
       "<pre>    Data has 1731 observations with 26 users and 1092 items.</pre>"
      ],
      "text/plain": [
       "    Data has 1731 observations with 26 users and 1092 items."
      ]
     },
     "metadata": {},
     "output_type": "display_data"
    },
    {
     "data": {
      "text/html": [
       "<pre>    Data prepared in: 0.018743s</pre>"
      ],
      "text/plain": [
       "    Data prepared in: 0.018743s"
      ]
     },
     "metadata": {},
     "output_type": "display_data"
    },
    {
     "data": {
      "text/html": [
       "<pre>Training model from provided data.</pre>"
      ],
      "text/plain": [
       "Training model from provided data."
      ]
     },
     "metadata": {},
     "output_type": "display_data"
    },
    {
     "data": {
      "text/html": [
       "<pre>Gathering per-item and per-user statistics.</pre>"
      ],
      "text/plain": [
       "Gathering per-item and per-user statistics."
      ]
     },
     "metadata": {},
     "output_type": "display_data"
    },
    {
     "data": {
      "text/html": [
       "<pre>+--------------------------------+------------+</pre>"
      ],
      "text/plain": [
       "+--------------------------------+------------+"
      ]
     },
     "metadata": {},
     "output_type": "display_data"
    },
    {
     "data": {
      "text/html": [
       "<pre>| Elapsed Time (Item Statistics) | % Complete |</pre>"
      ],
      "text/plain": [
       "| Elapsed Time (Item Statistics) | % Complete |"
      ]
     },
     "metadata": {},
     "output_type": "display_data"
    },
    {
     "data": {
      "text/html": [
       "<pre>+--------------------------------+------------+</pre>"
      ],
      "text/plain": [
       "+--------------------------------+------------+"
      ]
     },
     "metadata": {},
     "output_type": "display_data"
    },
    {
     "data": {
      "text/html": [
       "<pre>| 2.3ms                          | 100        |</pre>"
      ],
      "text/plain": [
       "| 2.3ms                          | 100        |"
      ]
     },
     "metadata": {},
     "output_type": "display_data"
    },
    {
     "data": {
      "text/html": [
       "<pre>+--------------------------------+------------+</pre>"
      ],
      "text/plain": [
       "+--------------------------------+------------+"
      ]
     },
     "metadata": {},
     "output_type": "display_data"
    },
    {
     "data": {
      "text/html": [
       "<pre>Setting up lookup tables.</pre>"
      ],
      "text/plain": [
       "Setting up lookup tables."
      ]
     },
     "metadata": {},
     "output_type": "display_data"
    },
    {
     "data": {
      "text/html": [
       "<pre>Processing data in one pass using dense lookup tables.</pre>"
      ],
      "text/plain": [
       "Processing data in one pass using dense lookup tables."
      ]
     },
     "metadata": {},
     "output_type": "display_data"
    },
    {
     "data": {
      "text/html": [
       "<pre>+-------------------------------------+------------------+-----------------+</pre>"
      ],
      "text/plain": [
       "+-------------------------------------+------------------+-----------------+"
      ]
     },
     "metadata": {},
     "output_type": "display_data"
    },
    {
     "data": {
      "text/html": [
       "<pre>| Elapsed Time (Constructing Lookups) | Total % Complete | Items Processed |</pre>"
      ],
      "text/plain": [
       "| Elapsed Time (Constructing Lookups) | Total % Complete | Items Processed |"
      ]
     },
     "metadata": {},
     "output_type": "display_data"
    },
    {
     "data": {
      "text/html": [
       "<pre>+-------------------------------------+------------------+-----------------+</pre>"
      ],
      "text/plain": [
       "+-------------------------------------+------------------+-----------------+"
      ]
     },
     "metadata": {},
     "output_type": "display_data"
    },
    {
     "data": {
      "text/html": [
       "<pre>| 22.154ms                            | 0                | 2               |</pre>"
      ],
      "text/plain": [
       "| 22.154ms                            | 0                | 2               |"
      ]
     },
     "metadata": {},
     "output_type": "display_data"
    },
    {
     "data": {
      "text/html": [
       "<pre>| 86.099ms                            | 100              | 1092            |</pre>"
      ],
      "text/plain": [
       "| 86.099ms                            | 100              | 1092            |"
      ]
     },
     "metadata": {},
     "output_type": "display_data"
    },
    {
     "name": "stdout",
     "output_type": "stream",
     "text": [
      "+---------+-------------------------------+----------------------+------+\n",
      "| user_id |           productId           |        score         | rank |\n",
      "+---------+-------------------------------+----------------------+------+\n",
      "|   1100  | 8b71484b-b0ba-4f86-87cc-25... | 0.036291509173637215 |  1   |\n",
      "|   1100  |             10410             | 0.016541809536689937 |  2   |\n",
      "|   1100  |             10401             | 0.016541809536689937 |  3   |\n",
      "|   1100  |             10396             | 0.016541809536689937 |  4   |\n",
      "|   1100  |             10277             | 0.016541809536689937 |  5   |\n",
      "|   1100  |             10168             | 0.016541809536689937 |  6   |\n",
      "|   1100  |             10164             | 0.016541809536689937 |  7   |\n",
      "|   1100  |             10138             | 0.016541809536689937 |  8   |\n",
      "|   1100  |             10122             | 0.016541809536689937 |  9   |\n",
      "|   1100  |              101              | 0.016541809536689937 |  10  |\n",
      "|    6    |               82              |  0.447213610013326   |  1   |\n",
      "|    6    |              102              | 0.42163701852162677  |  2   |\n",
      "|    6    |             10396             | 0.29814239343007404  |  3   |\n",
      "|    6    |             10277             | 0.29814239343007404  |  4   |\n",
      "|    6    |             10168             | 0.29814239343007404  |  5   |\n",
      "|    6    |             10164             | 0.29814239343007404  |  6   |\n",
      "|    6    |             10138             | 0.29814239343007404  |  7   |\n",
      "|    6    |             10122             | 0.29814239343007404  |  8   |\n",
      "|    6    |              101              | 0.29814239343007404  |  9   |\n",
      "|    6    |             10007             | 0.29814239343007404  |  10  |\n",
      "|    10   |               83              |  0.4648090600967407  |  1   |\n",
      "|    10   |              340              |  0.4648090600967407  |  2   |\n",
      "|    10   |              294              |  0.4648090600967407  |  3   |\n",
      "|    10   |              196              |  0.4648090600967407  |  4   |\n",
      "|    10   | 8e90e060-8e9f-46f2-b1df-6e... |  0.4465207854906718  |  5   |\n",
      "|    10   |              1019             | 0.42163701852162677  |  6   |\n",
      "|    10   |              419              |  0.3882519801457723  |  7   |\n",
      "|    10   |              197              |  0.3882519801457723  |  8   |\n",
      "|    10   |               40              | 0.26835765441258747  |  9   |\n",
      "|    10   |              1783             | 0.21081852912902832  |  10  |\n",
      "+---------+-------------------------------+----------------------+------+\n",
      "[140 rows x 4 columns]\n",
      "\n"
     ]
    },
    {
     "data": {
      "text/html": [
       "<pre>+-------------------------------------+------------------+-----------------+</pre>"
      ],
      "text/plain": [
       "+-------------------------------------+------------------+-----------------+"
      ]
     },
     "metadata": {},
     "output_type": "display_data"
    },
    {
     "data": {
      "text/html": [
       "<pre>Finalizing lookup tables.</pre>"
      ],
      "text/plain": [
       "Finalizing lookup tables."
      ]
     },
     "metadata": {},
     "output_type": "display_data"
    },
    {
     "data": {
      "text/html": [
       "<pre>Generating candidate set for working with new users.</pre>"
      ],
      "text/plain": [
       "Generating candidate set for working with new users."
      ]
     },
     "metadata": {},
     "output_type": "display_data"
    },
    {
     "data": {
      "text/html": [
       "<pre>Finished training in 0.092863s</pre>"
      ],
      "text/plain": [
       "Finished training in 0.092863s"
      ]
     },
     "metadata": {},
     "output_type": "display_data"
    }
   ],
   "source": [
    "final_model = tc.item_similarity_recommender.create(tc.SFrame(data), \n",
    "                                            user_id=user_id, \n",
    "                                            item_id=item_id, \n",
    "                                            target='purchase_count', similarity_type='cosine')\n",
    "recom = final_model.recommend(users=users_to_recommend, k=n_rec)\n",
    "recom.print_rows(n_display)"
   ]
  },
  {
   "cell_type": "code",
   "execution_count": 115,
   "metadata": {},
   "outputs": [
    {
     "name": "stdout",
     "output_type": "stream",
     "text": [
      "(140, 4)\n"
     ]
    },
    {
     "data": {
      "text/html": [
       "<div>\n",
       "<style scoped>\n",
       "    .dataframe tbody tr th:only-of-type {\n",
       "        vertical-align: middle;\n",
       "    }\n",
       "\n",
       "    .dataframe tbody tr th {\n",
       "        vertical-align: top;\n",
       "    }\n",
       "\n",
       "    .dataframe thead th {\n",
       "        text-align: right;\n",
       "    }\n",
       "</style>\n",
       "<table border=\"1\" class=\"dataframe\">\n",
       "  <thead>\n",
       "    <tr style=\"text-align: right;\">\n",
       "      <th></th>\n",
       "      <th>user_id</th>\n",
       "      <th>productId</th>\n",
       "      <th>score</th>\n",
       "      <th>rank</th>\n",
       "    </tr>\n",
       "  </thead>\n",
       "  <tbody>\n",
       "    <tr>\n",
       "      <th>0</th>\n",
       "      <td>1100</td>\n",
       "      <td>8b71484b-b0ba-4f86-87cc-250c83e921ad</td>\n",
       "      <td>0.036292</td>\n",
       "      <td>1</td>\n",
       "    </tr>\n",
       "    <tr>\n",
       "      <th>1</th>\n",
       "      <td>1100</td>\n",
       "      <td>10410</td>\n",
       "      <td>0.016542</td>\n",
       "      <td>2</td>\n",
       "    </tr>\n",
       "    <tr>\n",
       "      <th>2</th>\n",
       "      <td>1100</td>\n",
       "      <td>10401</td>\n",
       "      <td>0.016542</td>\n",
       "      <td>3</td>\n",
       "    </tr>\n",
       "    <tr>\n",
       "      <th>3</th>\n",
       "      <td>1100</td>\n",
       "      <td>10396</td>\n",
       "      <td>0.016542</td>\n",
       "      <td>4</td>\n",
       "    </tr>\n",
       "    <tr>\n",
       "      <th>4</th>\n",
       "      <td>1100</td>\n",
       "      <td>10277</td>\n",
       "      <td>0.016542</td>\n",
       "      <td>5</td>\n",
       "    </tr>\n",
       "  </tbody>\n",
       "</table>\n",
       "</div>"
      ],
      "text/plain": [
       "   user_id                             productId     score  rank\n",
       "0     1100  8b71484b-b0ba-4f86-87cc-250c83e921ad  0.036292     1\n",
       "1     1100                                 10410  0.016542     2\n",
       "2     1100                                 10401  0.016542     3\n",
       "3     1100                                 10396  0.016542     4\n",
       "4     1100                                 10277  0.016542     5"
      ]
     },
     "execution_count": 115,
     "metadata": {},
     "output_type": "execute_result"
    }
   ],
   "source": [
    "df_rec = recom.to_dataframe()\n",
    "print(df_rec.shape)\n",
    "df_rec.head()"
   ]
  },
  {
   "cell_type": "code",
   "execution_count": 154,
   "metadata": {},
   "outputs": [],
   "source": [
    "df_rec.to_json(\"recommended_products.json\")"
   ]
  },
  {
   "cell_type": "code",
   "execution_count": 120,
   "metadata": {},
   "outputs": [],
   "source": []
  },
  {
   "cell_type": "code",
   "execution_count": 122,
   "metadata": {},
   "outputs": [],
   "source": []
  },
  {
   "cell_type": "code",
   "execution_count": 124,
   "metadata": {},
   "outputs": [],
   "source": []
  },
  {
   "cell_type": "code",
   "execution_count": 125,
   "metadata": {},
   "outputs": [],
   "source": []
  },
  {
   "cell_type": "code",
   "execution_count": 127,
   "metadata": {},
   "outputs": [],
   "source": []
  },
  {
   "cell_type": "code",
   "execution_count": 128,
   "metadata": {},
   "outputs": [],
   "source": []
  },
  {
   "cell_type": "code",
   "execution_count": null,
   "metadata": {},
   "outputs": [],
   "source": []
  },
  {
   "cell_type": "code",
   "execution_count": 147,
   "metadata": {},
   "outputs": [],
   "source": []
  },
  {
   "cell_type": "code",
   "execution_count": 151,
   "metadata": {},
   "outputs": [],
   "source": []
  },
  {
   "cell_type": "code",
   "execution_count": null,
   "metadata": {},
   "outputs": [],
   "source": []
  },
  {
   "cell_type": "code",
   "execution_count": null,
   "metadata": {},
   "outputs": [],
   "source": []
  },
  {
   "cell_type": "code",
   "execution_count": null,
   "metadata": {},
   "outputs": [],
   "source": []
  },
  {
   "cell_type": "code",
   "execution_count": null,
   "metadata": {},
   "outputs": [],
   "source": []
  },
  {
   "cell_type": "code",
   "execution_count": null,
   "metadata": {},
   "outputs": [],
   "source": []
  }
 ],
 "metadata": {
  "kernelspec": {
   "display_name": "Python 3",
   "language": "python",
   "name": "python3"
  },
  "language_info": {
   "codemirror_mode": {
    "name": "ipython",
    "version": 3
   },
   "file_extension": ".py",
   "mimetype": "text/x-python",
   "name": "python",
   "nbconvert_exporter": "python",
   "pygments_lexer": "ipython3",
   "version": "3.6.5"
  }
 },
 "nbformat": 4,
 "nbformat_minor": 2
}
